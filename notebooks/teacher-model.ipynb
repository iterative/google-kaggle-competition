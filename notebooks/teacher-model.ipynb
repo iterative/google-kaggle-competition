{
 "cells": [
  {
   "cell_type": "code",
   "execution_count": 1,
   "metadata": {},
   "outputs": [],
   "source": [
    "%load_ext autoreload\n",
    "%autoreload 2"
   ]
  },
  {
   "cell_type": "code",
   "execution_count": 2,
   "metadata": {},
   "outputs": [],
   "source": [
    "import torch\n",
    "from torch.optim import lr_scheduler\n",
    "import torch.optim as optim\n",
    "from torch.autograd import Variable\n",
    "\n",
    "from trainer import fit\n",
    "import numpy as np\n",
    "cuda = torch.cuda.is_available()\n",
    "\n",
    "%matplotlib inline\n",
    "import matplotlib\n",
    "import matplotlib.pyplot as plt"
   ]
  },
  {
   "cell_type": "code",
   "execution_count": 3,
   "metadata": {},
   "outputs": [],
   "source": [
    "from torchvision.datasets import ImageFolder"
   ]
  },
  {
   "cell_type": "code",
   "execution_count": 15,
   "metadata": {},
   "outputs": [],
   "source": [
    "dataset = ImageFolder(\"/workspaces/google-kaggle-competition/data/teacher_data/Dishes\")"
   ]
  },
  {
   "cell_type": "code",
   "execution_count": 29,
   "metadata": {},
   "outputs": [
    {
     "data": {
      "text/plain": [
       "9000"
      ]
     },
     "execution_count": 29,
     "metadata": {},
     "output_type": "execute_result"
    }
   ],
   "source": [
    "len(dataset)"
   ]
  },
  {
   "cell_type": "code",
   "execution_count": 51,
   "metadata": {},
   "outputs": [],
   "source": [
    "from torch.utils.data import random_split\n",
    "\n",
    "test_size = 0.2\n",
    "test_n_samples = int(len(dataset)*test_size)\n",
    "train_dataset, val_dataset = torch.utils.data.random_split(dataset, [len(dataset)-test_n_samples, test_n_samples])"
   ]
  },
  {
   "cell_type": "code",
   "execution_count": 50,
   "metadata": {},
   "outputs": [
    {
     "data": {
      "text/plain": [
       "1800"
      ]
     },
     "execution_count": 50,
     "metadata": {},
     "output_type": "execute_result"
    }
   ],
   "source": [
    "len(val_dataset)"
   ]
  },
  {
   "cell_type": "code",
   "execution_count": 37,
   "metadata": {},
   "outputs": [
    {
     "data": {
      "text/plain": [
       "{0, 1, 2, 3, 4, 5}"
      ]
     },
     "execution_count": 37,
     "metadata": {},
     "output_type": "execute_result"
    }
   ],
   "source": [
    "set(train_dataset.targets)"
   ]
  },
  {
   "cell_type": "code",
   "execution_count": 38,
   "metadata": {},
   "outputs": [
    {
     "data": {
      "text/plain": [
       "{'American': 0,\n",
       " 'Chinese': 1,\n",
       " 'European': 2,\n",
       " 'Indian': 3,\n",
       " 'Japanese': 4,\n",
       " 'Korean': 5}"
      ]
     },
     "execution_count": 38,
     "metadata": {},
     "output_type": "execute_result"
    }
   ],
   "source": [
    "train_dataset.class_to_idx"
   ]
  },
  {
   "cell_type": "code",
   "execution_count": 5,
   "metadata": {},
   "outputs": [],
   "source": [
    "from datasets import TripletMNIST\n"
   ]
  },
  {
   "cell_type": "code",
   "execution_count": 52,
   "metadata": {},
   "outputs": [],
   "source": [
    "triplet_train_dataset = TripletMNIST(train_dataset, True) # Returns triplets of images\n"
   ]
  },
  {
   "cell_type": "code",
   "execution_count": 6,
   "metadata": {},
   "outputs": [],
   "source": [
    "import torch"
   ]
  },
  {
   "cell_type": "code",
   "execution_count": 9,
   "metadata": {},
   "outputs": [],
   "source": [
    "# batch_size = 128\n",
    "# kwargs = {'num_workers': 1, 'pin_memory': True} if torch.cuda.is_available() else {}\n",
    "# triplet_train_loader = torch.utils.data.DataLoader(triplet_train_dataset, batch_size=batch_size, shuffle=True, **kwargs)\n"
   ]
  },
  {
   "cell_type": "code",
   "execution_count": 10,
   "metadata": {},
   "outputs": [],
   "source": [
    "cuda = torch.cuda.is_available()"
   ]
  },
  {
   "cell_type": "code",
   "execution_count": 11,
   "metadata": {},
   "outputs": [],
   "source": [
    "import numpy as np"
   ]
  },
  {
   "cell_type": "code",
   "execution_count": 57,
   "metadata": {},
   "outputs": [],
   "source": [
    "triplet_train_loader = torch.utils.data.DataLoader(train_dataset, batch_size=batch_size, shuffle=True, **kwargs)"
   ]
  },
  {
   "cell_type": "code",
   "execution_count": 17,
   "metadata": {},
   "outputs": [
    {
     "data": {
      "text/plain": [
       "Dataset ImageFolder\n",
       "    Number of datapoints: 9000\n",
       "    Root location: /workspaces/google-kaggle-competition/data/teacher_data/Dishes"
      ]
     },
     "execution_count": 17,
     "metadata": {},
     "output_type": "execute_result"
    }
   ],
   "source": [
    "train_dataset.dataset"
   ]
  },
  {
   "cell_type": "code",
   "execution_count": 18,
   "metadata": {},
   "outputs": [
    {
     "ename": "TypeError",
     "evalue": "list indices must be integers or slices, not list",
     "output_type": "error",
     "traceback": [
      "\u001b[0;31m---------------------------------------------------------------------------\u001b[0m",
      "\u001b[0;31mTypeError\u001b[0m                                 Traceback (most recent call last)",
      "\u001b[1;32m/workspaces/google-kaggle-competition/notebooks/teacher-model.ipynb Cell 18'\u001b[0m in \u001b[0;36m<cell line: 1>\u001b[0;34m()\u001b[0m\n\u001b[0;32m----> <a href='vscode-notebook-cell://codespaces%2Biterative-google-kaggle-competition-xvrvq46j397rv/workspaces/google-kaggle-competition/notebooks/teacher-model.ipynb#ch0000027vscode-remote?line=0'>1</a>\u001b[0m dataset[[\u001b[39m1\u001b[39;49m,\u001b[39m2\u001b[39;49m]]\n",
      "File \u001b[0;32m~/.cache/pypoetry/virtualenvs/google-kaggle-TDiTHuYo-py3.10/lib/python3.10/site-packages/torchvision/datasets/folder.py:229\u001b[0m, in \u001b[0;36mDatasetFolder.__getitem__\u001b[0;34m(self, index)\u001b[0m\n\u001b[1;32m    <a href='file:///root/.cache/pypoetry/virtualenvs/google-kaggle-TDiTHuYo-py3.10/lib/python3.10/site-packages/torchvision/datasets/folder.py?line=220'>221</a>\u001b[0m \u001b[39mdef\u001b[39;00m \u001b[39m__getitem__\u001b[39m(\u001b[39mself\u001b[39m, index: \u001b[39mint\u001b[39m) \u001b[39m-\u001b[39m\u001b[39m>\u001b[39m Tuple[Any, Any]:\n\u001b[1;32m    <a href='file:///root/.cache/pypoetry/virtualenvs/google-kaggle-TDiTHuYo-py3.10/lib/python3.10/site-packages/torchvision/datasets/folder.py?line=221'>222</a>\u001b[0m     \u001b[39m\"\"\"\u001b[39;00m\n\u001b[1;32m    <a href='file:///root/.cache/pypoetry/virtualenvs/google-kaggle-TDiTHuYo-py3.10/lib/python3.10/site-packages/torchvision/datasets/folder.py?line=222'>223</a>\u001b[0m \u001b[39m    Args:\u001b[39;00m\n\u001b[1;32m    <a href='file:///root/.cache/pypoetry/virtualenvs/google-kaggle-TDiTHuYo-py3.10/lib/python3.10/site-packages/torchvision/datasets/folder.py?line=223'>224</a>\u001b[0m \u001b[39m        index (int): Index\u001b[39;00m\n\u001b[0;32m   (...)\u001b[0m\n\u001b[1;32m    <a href='file:///root/.cache/pypoetry/virtualenvs/google-kaggle-TDiTHuYo-py3.10/lib/python3.10/site-packages/torchvision/datasets/folder.py?line=226'>227</a>\u001b[0m \u001b[39m        tuple: (sample, target) where target is class_index of the target class.\u001b[39;00m\n\u001b[1;32m    <a href='file:///root/.cache/pypoetry/virtualenvs/google-kaggle-TDiTHuYo-py3.10/lib/python3.10/site-packages/torchvision/datasets/folder.py?line=227'>228</a>\u001b[0m \u001b[39m    \"\"\"\u001b[39;00m\n\u001b[0;32m--> <a href='file:///root/.cache/pypoetry/virtualenvs/google-kaggle-TDiTHuYo-py3.10/lib/python3.10/site-packages/torchvision/datasets/folder.py?line=228'>229</a>\u001b[0m     path, target \u001b[39m=\u001b[39m \u001b[39mself\u001b[39;49m\u001b[39m.\u001b[39;49msamples[index]\n\u001b[1;32m    <a href='file:///root/.cache/pypoetry/virtualenvs/google-kaggle-TDiTHuYo-py3.10/lib/python3.10/site-packages/torchvision/datasets/folder.py?line=229'>230</a>\u001b[0m     sample \u001b[39m=\u001b[39m \u001b[39mself\u001b[39m\u001b[39m.\u001b[39mloader(path)\n\u001b[1;32m    <a href='file:///root/.cache/pypoetry/virtualenvs/google-kaggle-TDiTHuYo-py3.10/lib/python3.10/site-packages/torchvision/datasets/folder.py?line=230'>231</a>\u001b[0m     \u001b[39mif\u001b[39;00m \u001b[39mself\u001b[39m\u001b[39m.\u001b[39mtransform \u001b[39mis\u001b[39;00m \u001b[39mnot\u001b[39;00m \u001b[39mNone\u001b[39;00m:\n",
      "\u001b[0;31mTypeError\u001b[0m: list indices must be integers or slices, not list"
     ]
    }
   ],
   "source": [
    "dataset[[1,2]]"
   ]
  },
  {
   "cell_type": "code",
   "execution_count": null,
   "metadata": {},
   "outputs": [
    {
     "ename": "TypeError",
     "evalue": "list indices must be integers or slices, not list",
     "output_type": "error",
     "traceback": [
      "\u001b[0;31m---------------------------------------------------------------------------\u001b[0m\n",
      "\u001b[0;31mTypeError\u001b[0m                                 Traceback (most recent call last)\n",
      "\u001b[1;32m/workspaces/google-kaggle-competition/notebooks/teacher-model.ipynb Cell 17'\u001b[0m in \u001b[0;36m<cell line: 9>\u001b[0;34m()\u001b[0m\n",
      "\u001b[1;32m      <a href='vscode-notebook-cell://codespaces%2Biterative-google-kaggle-competition-xvrvq46j397rv/workspaces/google-kaggle-competition/notebooks/teacher-model.ipynb#ch0000014vscode-remote?line=5'>6</a>\u001b[0m test_n_samples \u001b[39m=\u001b[39m \u001b[39mint\u001b[39m(\u001b[39mlen\u001b[39m(dataset)\u001b[39m*\u001b[39mtest_size)\n",
      "\u001b[1;32m      <a href='vscode-notebook-cell://codespaces%2Biterative-google-kaggle-competition-xvrvq46j397rv/workspaces/google-kaggle-competition/notebooks/teacher-model.ipynb#ch0000014vscode-remote?line=6'>7</a>\u001b[0m train_dataset, val_dataset \u001b[39m=\u001b[39m torch\u001b[39m.\u001b[39mutils\u001b[39m.\u001b[39mdata\u001b[39m.\u001b[39mrandom_split(dataset, [\u001b[39mlen\u001b[39m(dataset)\u001b[39m-\u001b[39mtest_n_samples, test_n_samples])\n",
      "\u001b[0;32m----> <a href='vscode-notebook-cell://codespaces%2Biterative-google-kaggle-competition-xvrvq46j397rv/workspaces/google-kaggle-competition/notebooks/teacher-model.ipynb#ch0000014vscode-remote?line=8'>9</a>\u001b[0m triplet_dataset_train \u001b[39m=\u001b[39m TripletMNIST(train_dataset\u001b[39m.\u001b[39;49mdataset, train\u001b[39m=\u001b[39;49m\u001b[39mTrue\u001b[39;49;00m, subset_indices\u001b[39m=\u001b[39;49mtrain_dataset\u001b[39m.\u001b[39;49mindices) \n",
      "\u001b[1;32m     <a href='vscode-notebook-cell://codespaces%2Biterative-google-kaggle-competition-xvrvq46j397rv/workspaces/google-kaggle-competition/notebooks/teacher-model.ipynb#ch0000014vscode-remote?line=9'>10</a>\u001b[0m triplet_dataset_val \u001b[39m=\u001b[39m TripletMNIST(val_dataset\u001b[39m.\u001b[39mdataset, train\u001b[39m=\u001b[39m\u001b[39mFalse\u001b[39;00m, subset_indices\u001b[39m=\u001b[39mval_dataset\u001b[39m.\u001b[39mindices)\n",
      "\u001b[1;32m     <a href='vscode-notebook-cell://codespaces%2Biterative-google-kaggle-competition-xvrvq46j397rv/workspaces/google-kaggle-competition/notebooks/teacher-model.ipynb#ch0000014vscode-remote?line=10'>11</a>\u001b[0m \u001b[39m# triplet_test_dataset = TripletMNIST(test_dataset)\u001b[39;00m\n",
      "\n",
      "File \u001b[0;32m/workspaces/google-kaggle-competition/notebooks/datasets.py:88\u001b[0m, in \u001b[0;36mTripletMNIST.__init__\u001b[0;34m(self, dataset, train, subset_indices)\u001b[0m\n",
      "\u001b[1;32m     <a href='file:///workspaces/google-kaggle-competition/notebooks/datasets.py?line=84'>85</a>\u001b[0m \u001b[39mdef\u001b[39;00m \u001b[39m__init__\u001b[39m(\u001b[39mself\u001b[39m, dataset, train,subset_indices: \u001b[39mlist\u001b[39m\u001b[39m=\u001b[39m\u001b[39mNone\u001b[39;00m ):\n",
      "\u001b[1;32m     <a href='file:///workspaces/google-kaggle-competition/notebooks/datasets.py?line=86'>87</a>\u001b[0m     \u001b[39mif\u001b[39;00m subset_indices \u001b[39mis\u001b[39;00m \u001b[39mnot\u001b[39;00m \u001b[39mNone\u001b[39;00m:\n",
      "\u001b[0;32m---> <a href='file:///workspaces/google-kaggle-competition/notebooks/datasets.py?line=87'>88</a>\u001b[0m         \u001b[39mself\u001b[39m\u001b[39m.\u001b[39mdataset \u001b[39m=\u001b[39m dataset[subset_indices]\n",
      "\u001b[1;32m     <a href='file:///workspaces/google-kaggle-competition/notebooks/datasets.py?line=88'>89</a>\u001b[0m     \u001b[39melse\u001b[39;00m: \n",
      "\u001b[1;32m     <a href='file:///workspaces/google-kaggle-competition/notebooks/datasets.py?line=89'>90</a>\u001b[0m         \u001b[39mself\u001b[39m\u001b[39m.\u001b[39mdataset \u001b[39m=\u001b[39m dataset\n",
      "\n",
      "File \u001b[0;32m~/.cache/pypoetry/virtualenvs/google-kaggle-TDiTHuYo-py3.10/lib/python3.10/site-packages/torchvision/datasets/folder.py:229\u001b[0m, in \u001b[0;36mDatasetFolder.__getitem__\u001b[0;34m(self, index)\u001b[0m\n",
      "\u001b[1;32m    <a href='file:///root/.cache/pypoetry/virtualenvs/google-kaggle-TDiTHuYo-py3.10/lib/python3.10/site-packages/torchvision/datasets/folder.py?line=220'>221</a>\u001b[0m \u001b[39mdef\u001b[39;00m \u001b[39m__getitem__\u001b[39m(\u001b[39mself\u001b[39m, index: \u001b[39mint\u001b[39m) \u001b[39m-\u001b[39m\u001b[39m>\u001b[39m Tuple[Any, Any]:\n",
      "\u001b[1;32m    <a href='file:///root/.cache/pypoetry/virtualenvs/google-kaggle-TDiTHuYo-py3.10/lib/python3.10/site-packages/torchvision/datasets/folder.py?line=221'>222</a>\u001b[0m     \u001b[39m\"\"\"\u001b[39;00m\n",
      "\u001b[1;32m    <a href='file:///root/.cache/pypoetry/virtualenvs/google-kaggle-TDiTHuYo-py3.10/lib/python3.10/site-packages/torchvision/datasets/folder.py?line=222'>223</a>\u001b[0m \u001b[39m    Args:\u001b[39;00m\n",
      "\u001b[1;32m    <a href='file:///root/.cache/pypoetry/virtualenvs/google-kaggle-TDiTHuYo-py3.10/lib/python3.10/site-packages/torchvision/datasets/folder.py?line=223'>224</a>\u001b[0m \u001b[39m        index (int): Index\u001b[39;00m\n",
      "\u001b[0;32m   (...)\u001b[0m\n",
      "\u001b[1;32m    <a href='file:///root/.cache/pypoetry/virtualenvs/google-kaggle-TDiTHuYo-py3.10/lib/python3.10/site-packages/torchvision/datasets/folder.py?line=226'>227</a>\u001b[0m \u001b[39m        tuple: (sample, target) where target is class_index of the target class.\u001b[39;00m\n",
      "\u001b[1;32m    <a href='file:///root/.cache/pypoetry/virtualenvs/google-kaggle-TDiTHuYo-py3.10/lib/python3.10/site-packages/torchvision/datasets/folder.py?line=227'>228</a>\u001b[0m \u001b[39m    \"\"\"\u001b[39;00m\n",
      "\u001b[0;32m--> <a href='file:///root/.cache/pypoetry/virtualenvs/google-kaggle-TDiTHuYo-py3.10/lib/python3.10/site-packages/torchvision/datasets/folder.py?line=228'>229</a>\u001b[0m     path, target \u001b[39m=\u001b[39m \u001b[39mself\u001b[39;49m\u001b[39m.\u001b[39;49msamples[index]\n",
      "\u001b[1;32m    <a href='file:///root/.cache/pypoetry/virtualenvs/google-kaggle-TDiTHuYo-py3.10/lib/python3.10/site-packages/torchvision/datasets/folder.py?line=229'>230</a>\u001b[0m     sample \u001b[39m=\u001b[39m \u001b[39mself\u001b[39m\u001b[39m.\u001b[39mloader(path)\n",
      "\u001b[1;32m    <a href='file:///root/.cache/pypoetry/virtualenvs/google-kaggle-TDiTHuYo-py3.10/lib/python3.10/site-packages/torchvision/datasets/folder.py?line=230'>231</a>\u001b[0m     \u001b[39mif\u001b[39;00m \u001b[39mself\u001b[39m\u001b[39m.\u001b[39mtransform \u001b[39mis\u001b[39;00m \u001b[39mnot\u001b[39;00m \u001b[39mNone\u001b[39;00m:\n",
      "\n",
      "\u001b[0;31mTypeError\u001b[0m: list indices must be integers or slices, not list"
     ]
    }
   ],
   "source": [
    "from torch.utils.data import random_split\n",
    "\n",
    "\n",
    "\n",
    "test_size = 0.2\n",
    "test_n_samples = int(len(dataset)*test_size)\n",
    "train_dataset, val_dataset = torch.utils.data.random_split(dataset, [len(dataset)-test_n_samples, test_n_samples])\n",
    "\n",
    "triplet_dataset_train = TripletMNIST(train_dataset.dataset, train=True, subset_indices=train_dataset.indices) \n",
    "triplet_dataset_val = TripletMNIST(val_dataset.dataset, train=False, subset_indices=val_dataset.indices)\n",
    "# triplet_test_dataset = TripletMNIST(test_dataset)\n",
    "batch_size = 128\n",
    "kwargs = {'num_workers': 1, 'pin_memory': True} if cuda else {}\n",
    "triplet_train_loader = torch.utils.data.DataLoader(train_dataset, batch_size=batch_size, shuffle=True, **kwargs)\n",
    "# triplet_test_loader = torch.utils.data.DataLoader(triplet_test_dataset, batch_size=batch_size, shuffle=False, **kwargs)\n",
    "\n",
    "# Set up the network and training parameters\n",
    "from networks import EmbeddingNet, TripletNet\n",
    "from losses import TripletLoss\n",
    "\n",
    "margin = 1.\n",
    "embedding_net = EmbeddingNet()\n",
    "model = TripletNet(embedding_net)\n",
    "\n",
    "if cuda:\n",
    "    model.cuda()\n",
    "loss_fn = TripletLoss(margin)\n",
    "lr = 1e-3\n",
    "optimizer = optim.Adam(model.parameters(), lr=lr)\n",
    "scheduler = lr_scheduler.StepLR(optimizer, 8, gamma=0.1, last_epoch=-1)\n",
    "n_epochs = 1\n",
    "log_interval = 100"
   ]
  },
  {
   "cell_type": "code",
   "execution_count": 13,
   "metadata": {},
   "outputs": [
    {
     "name": "stderr",
     "output_type": "stream",
     "text": [
      "/root/.cache/pypoetry/virtualenvs/google-kaggle-TDiTHuYo-py3.10/lib/python3.10/site-packages/torch/optim/lr_scheduler.py:131: UserWarning: Detected call of `lr_scheduler.step()` before `optimizer.step()`. In PyTorch 1.1.0 and later, you should call them in the opposite order: `optimizer.step()` before `lr_scheduler.step()`.  Failure to do this will result in PyTorch skipping the first value of the learning rate schedule. See more details at https://pytorch.org/docs/stable/optim.html#how-to-adjust-learning-rate\n",
      "  warnings.warn(\"Detected call of `lr_scheduler.step()` before `optimizer.step()`. \"\n"
     ]
    },
    {
     "name": "stdout",
     "output_type": "stream",
     "text": [
      "Train: [0/7200 (0%)]\tLoss: 0.999999\n"
     ]
    },
    {
     "ename": "KeyboardInterrupt",
     "evalue": "",
     "output_type": "error",
     "traceback": [
      "\u001b[0;31m---------------------------------------------------------------------------\u001b[0m",
      "\u001b[0;31mKeyboardInterrupt\u001b[0m                         Traceback (most recent call last)",
      "\u001b[1;32m/workspaces/google-kaggle-competition/notebooks/teacher-model.ipynb Cell 18'\u001b[0m in \u001b[0;36m<cell line: 1>\u001b[0;34m()\u001b[0m\n\u001b[0;32m----> <a href='vscode-notebook-cell://codespaces%2Biterative-google-kaggle-competition-xvrvq46j397rv/workspaces/google-kaggle-competition/notebooks/teacher-model.ipynb#ch0000015vscode-remote?line=0'>1</a>\u001b[0m fit(triplet_train_loader,  model, loss_fn, optimizer, scheduler, n_epochs, cuda, log_interval)\n",
      "File \u001b[0;32m/workspaces/google-kaggle-competition/notebooks/trainer.py:23\u001b[0m, in \u001b[0;36mfit\u001b[0;34m(train_loader, model, loss_fn, optimizer, scheduler, n_epochs, cuda, log_interval, metrics, start_epoch)\u001b[0m\n\u001b[1;32m     <a href='file:///workspaces/google-kaggle-competition/notebooks/trainer.py?line=19'>20</a>\u001b[0m scheduler\u001b[39m.\u001b[39mstep()\n\u001b[1;32m     <a href='file:///workspaces/google-kaggle-competition/notebooks/trainer.py?line=21'>22</a>\u001b[0m \u001b[39m# Train stage\u001b[39;00m\n\u001b[0;32m---> <a href='file:///workspaces/google-kaggle-competition/notebooks/trainer.py?line=22'>23</a>\u001b[0m train_loss, metrics \u001b[39m=\u001b[39m train_epoch(train_loader, model, loss_fn, optimizer, cuda, log_interval, metrics)\n\u001b[1;32m     <a href='file:///workspaces/google-kaggle-competition/notebooks/trainer.py?line=24'>25</a>\u001b[0m message \u001b[39m=\u001b[39m \u001b[39m'\u001b[39m\u001b[39mEpoch: \u001b[39m\u001b[39m{}\u001b[39;00m\u001b[39m/\u001b[39m\u001b[39m{}\u001b[39;00m\u001b[39m. Train set: Average loss: \u001b[39m\u001b[39m{:.4f}\u001b[39;00m\u001b[39m'\u001b[39m\u001b[39m.\u001b[39mformat(epoch \u001b[39m+\u001b[39m \u001b[39m1\u001b[39m, n_epochs, train_loss)\n\u001b[1;32m     <a href='file:///workspaces/google-kaggle-competition/notebooks/trainer.py?line=25'>26</a>\u001b[0m \u001b[39mfor\u001b[39;00m metric \u001b[39min\u001b[39;00m metrics:\n",
      "File \u001b[0;32m/workspaces/google-kaggle-competition/notebooks/trainer.py:60\u001b[0m, in \u001b[0;36mtrain_epoch\u001b[0;34m(train_loader, model, loss_fn, optimizer, cuda, log_interval, metrics)\u001b[0m\n\u001b[1;32m     <a href='file:///workspaces/google-kaggle-competition/notebooks/trainer.py?line=57'>58</a>\u001b[0m optimizer\u001b[39m.\u001b[39mzero_grad()\n\u001b[1;32m     <a href='file:///workspaces/google-kaggle-competition/notebooks/trainer.py?line=58'>59</a>\u001b[0m \u001b[39m# print((data[0].shape))\u001b[39;00m\n\u001b[0;32m---> <a href='file:///workspaces/google-kaggle-competition/notebooks/trainer.py?line=59'>60</a>\u001b[0m outputs \u001b[39m=\u001b[39m model(\u001b[39m*\u001b[39;49mdata)\n\u001b[1;32m     <a href='file:///workspaces/google-kaggle-competition/notebooks/trainer.py?line=61'>62</a>\u001b[0m \u001b[39mif\u001b[39;00m \u001b[39mtype\u001b[39m(outputs) \u001b[39mnot\u001b[39;00m \u001b[39min\u001b[39;00m (\u001b[39mtuple\u001b[39m, \u001b[39mlist\u001b[39m):\n\u001b[1;32m     <a href='file:///workspaces/google-kaggle-competition/notebooks/trainer.py?line=62'>63</a>\u001b[0m     outputs \u001b[39m=\u001b[39m (outputs,)\n",
      "File \u001b[0;32m~/.cache/pypoetry/virtualenvs/google-kaggle-TDiTHuYo-py3.10/lib/python3.10/site-packages/torch/nn/modules/module.py:1130\u001b[0m, in \u001b[0;36mModule._call_impl\u001b[0;34m(self, *input, **kwargs)\u001b[0m\n\u001b[1;32m   <a href='file:///root/.cache/pypoetry/virtualenvs/google-kaggle-TDiTHuYo-py3.10/lib/python3.10/site-packages/torch/nn/modules/module.py?line=1125'>1126</a>\u001b[0m \u001b[39m# If we don't have any hooks, we want to skip the rest of the logic in\u001b[39;00m\n\u001b[1;32m   <a href='file:///root/.cache/pypoetry/virtualenvs/google-kaggle-TDiTHuYo-py3.10/lib/python3.10/site-packages/torch/nn/modules/module.py?line=1126'>1127</a>\u001b[0m \u001b[39m# this function, and just call forward.\u001b[39;00m\n\u001b[1;32m   <a href='file:///root/.cache/pypoetry/virtualenvs/google-kaggle-TDiTHuYo-py3.10/lib/python3.10/site-packages/torch/nn/modules/module.py?line=1127'>1128</a>\u001b[0m \u001b[39mif\u001b[39;00m \u001b[39mnot\u001b[39;00m (\u001b[39mself\u001b[39m\u001b[39m.\u001b[39m_backward_hooks \u001b[39mor\u001b[39;00m \u001b[39mself\u001b[39m\u001b[39m.\u001b[39m_forward_hooks \u001b[39mor\u001b[39;00m \u001b[39mself\u001b[39m\u001b[39m.\u001b[39m_forward_pre_hooks \u001b[39mor\u001b[39;00m _global_backward_hooks\n\u001b[1;32m   <a href='file:///root/.cache/pypoetry/virtualenvs/google-kaggle-TDiTHuYo-py3.10/lib/python3.10/site-packages/torch/nn/modules/module.py?line=1128'>1129</a>\u001b[0m         \u001b[39mor\u001b[39;00m _global_forward_hooks \u001b[39mor\u001b[39;00m _global_forward_pre_hooks):\n\u001b[0;32m-> <a href='file:///root/.cache/pypoetry/virtualenvs/google-kaggle-TDiTHuYo-py3.10/lib/python3.10/site-packages/torch/nn/modules/module.py?line=1129'>1130</a>\u001b[0m     \u001b[39mreturn\u001b[39;00m forward_call(\u001b[39m*\u001b[39;49m\u001b[39minput\u001b[39;49m, \u001b[39m*\u001b[39;49m\u001b[39m*\u001b[39;49mkwargs)\n\u001b[1;32m   <a href='file:///root/.cache/pypoetry/virtualenvs/google-kaggle-TDiTHuYo-py3.10/lib/python3.10/site-packages/torch/nn/modules/module.py?line=1130'>1131</a>\u001b[0m \u001b[39m# Do not call functions when jit is used\u001b[39;00m\n\u001b[1;32m   <a href='file:///root/.cache/pypoetry/virtualenvs/google-kaggle-TDiTHuYo-py3.10/lib/python3.10/site-packages/torch/nn/modules/module.py?line=1131'>1132</a>\u001b[0m full_backward_hooks, non_full_backward_hooks \u001b[39m=\u001b[39m [], []\n",
      "File \u001b[0;32m/workspaces/google-kaggle-competition/notebooks/networks.py:87\u001b[0m, in \u001b[0;36mTripletNet.forward\u001b[0;34m(self, x1, x2, x3)\u001b[0m\n\u001b[1;32m     <a href='file:///workspaces/google-kaggle-competition/notebooks/networks.py?line=84'>85</a>\u001b[0m \u001b[39mdef\u001b[39;00m \u001b[39mforward\u001b[39m(\u001b[39mself\u001b[39m, x1, x2, x3):\n\u001b[1;32m     <a href='file:///workspaces/google-kaggle-competition/notebooks/networks.py?line=85'>86</a>\u001b[0m     output1 \u001b[39m=\u001b[39m \u001b[39mself\u001b[39m\u001b[39m.\u001b[39membedding_net(x1)\n\u001b[0;32m---> <a href='file:///workspaces/google-kaggle-competition/notebooks/networks.py?line=86'>87</a>\u001b[0m     output2 \u001b[39m=\u001b[39m \u001b[39mself\u001b[39;49m\u001b[39m.\u001b[39;49membedding_net(x2)\n\u001b[1;32m     <a href='file:///workspaces/google-kaggle-competition/notebooks/networks.py?line=87'>88</a>\u001b[0m     output3 \u001b[39m=\u001b[39m \u001b[39mself\u001b[39m\u001b[39m.\u001b[39membedding_net(x3)\n\u001b[1;32m     <a href='file:///workspaces/google-kaggle-competition/notebooks/networks.py?line=88'>89</a>\u001b[0m     \u001b[39mreturn\u001b[39;00m output1, output2, output3\n",
      "File \u001b[0;32m~/.cache/pypoetry/virtualenvs/google-kaggle-TDiTHuYo-py3.10/lib/python3.10/site-packages/torch/nn/modules/module.py:1130\u001b[0m, in \u001b[0;36mModule._call_impl\u001b[0;34m(self, *input, **kwargs)\u001b[0m\n\u001b[1;32m   <a href='file:///root/.cache/pypoetry/virtualenvs/google-kaggle-TDiTHuYo-py3.10/lib/python3.10/site-packages/torch/nn/modules/module.py?line=1125'>1126</a>\u001b[0m \u001b[39m# If we don't have any hooks, we want to skip the rest of the logic in\u001b[39;00m\n\u001b[1;32m   <a href='file:///root/.cache/pypoetry/virtualenvs/google-kaggle-TDiTHuYo-py3.10/lib/python3.10/site-packages/torch/nn/modules/module.py?line=1126'>1127</a>\u001b[0m \u001b[39m# this function, and just call forward.\u001b[39;00m\n\u001b[1;32m   <a href='file:///root/.cache/pypoetry/virtualenvs/google-kaggle-TDiTHuYo-py3.10/lib/python3.10/site-packages/torch/nn/modules/module.py?line=1127'>1128</a>\u001b[0m \u001b[39mif\u001b[39;00m \u001b[39mnot\u001b[39;00m (\u001b[39mself\u001b[39m\u001b[39m.\u001b[39m_backward_hooks \u001b[39mor\u001b[39;00m \u001b[39mself\u001b[39m\u001b[39m.\u001b[39m_forward_hooks \u001b[39mor\u001b[39;00m \u001b[39mself\u001b[39m\u001b[39m.\u001b[39m_forward_pre_hooks \u001b[39mor\u001b[39;00m _global_backward_hooks\n\u001b[1;32m   <a href='file:///root/.cache/pypoetry/virtualenvs/google-kaggle-TDiTHuYo-py3.10/lib/python3.10/site-packages/torch/nn/modules/module.py?line=1128'>1129</a>\u001b[0m         \u001b[39mor\u001b[39;00m _global_forward_hooks \u001b[39mor\u001b[39;00m _global_forward_pre_hooks):\n\u001b[0;32m-> <a href='file:///root/.cache/pypoetry/virtualenvs/google-kaggle-TDiTHuYo-py3.10/lib/python3.10/site-packages/torch/nn/modules/module.py?line=1129'>1130</a>\u001b[0m     \u001b[39mreturn\u001b[39;00m forward_call(\u001b[39m*\u001b[39;49m\u001b[39minput\u001b[39;49m, \u001b[39m*\u001b[39;49m\u001b[39m*\u001b[39;49mkwargs)\n\u001b[1;32m   <a href='file:///root/.cache/pypoetry/virtualenvs/google-kaggle-TDiTHuYo-py3.10/lib/python3.10/site-packages/torch/nn/modules/module.py?line=1130'>1131</a>\u001b[0m \u001b[39m# Do not call functions when jit is used\u001b[39;00m\n\u001b[1;32m   <a href='file:///root/.cache/pypoetry/virtualenvs/google-kaggle-TDiTHuYo-py3.10/lib/python3.10/site-packages/torch/nn/modules/module.py?line=1131'>1132</a>\u001b[0m full_backward_hooks, non_full_backward_hooks \u001b[39m=\u001b[39m [], []\n",
      "File \u001b[0;32m/workspaces/google-kaggle-competition/notebooks/networks.py:25\u001b[0m, in \u001b[0;36mEmbeddingNet.forward\u001b[0;34m(self, x)\u001b[0m\n\u001b[1;32m     <a href='file:///workspaces/google-kaggle-competition/notebooks/networks.py?line=23'>24</a>\u001b[0m \u001b[39mdef\u001b[39;00m \u001b[39mforward\u001b[39m(\u001b[39mself\u001b[39m, x):\n\u001b[0;32m---> <a href='file:///workspaces/google-kaggle-competition/notebooks/networks.py?line=24'>25</a>\u001b[0m     output \u001b[39m=\u001b[39m \u001b[39mself\u001b[39;49m\u001b[39m.\u001b[39;49mconvnet(x)\n\u001b[1;32m     <a href='file:///workspaces/google-kaggle-competition/notebooks/networks.py?line=25'>26</a>\u001b[0m     \u001b[39m# output = output.last_hidden_state\u001b[39;00m\n\u001b[1;32m     <a href='file:///workspaces/google-kaggle-competition/notebooks/networks.py?line=26'>27</a>\u001b[0m     output \u001b[39m=\u001b[39m output\u001b[39m.\u001b[39mview(output\u001b[39m.\u001b[39msize()[\u001b[39m0\u001b[39m], \u001b[39m-\u001b[39m\u001b[39m1\u001b[39m)\n",
      "File \u001b[0;32m~/.cache/pypoetry/virtualenvs/google-kaggle-TDiTHuYo-py3.10/lib/python3.10/site-packages/torch/nn/modules/module.py:1130\u001b[0m, in \u001b[0;36mModule._call_impl\u001b[0;34m(self, *input, **kwargs)\u001b[0m\n\u001b[1;32m   <a href='file:///root/.cache/pypoetry/virtualenvs/google-kaggle-TDiTHuYo-py3.10/lib/python3.10/site-packages/torch/nn/modules/module.py?line=1125'>1126</a>\u001b[0m \u001b[39m# If we don't have any hooks, we want to skip the rest of the logic in\u001b[39;00m\n\u001b[1;32m   <a href='file:///root/.cache/pypoetry/virtualenvs/google-kaggle-TDiTHuYo-py3.10/lib/python3.10/site-packages/torch/nn/modules/module.py?line=1126'>1127</a>\u001b[0m \u001b[39m# this function, and just call forward.\u001b[39;00m\n\u001b[1;32m   <a href='file:///root/.cache/pypoetry/virtualenvs/google-kaggle-TDiTHuYo-py3.10/lib/python3.10/site-packages/torch/nn/modules/module.py?line=1127'>1128</a>\u001b[0m \u001b[39mif\u001b[39;00m \u001b[39mnot\u001b[39;00m (\u001b[39mself\u001b[39m\u001b[39m.\u001b[39m_backward_hooks \u001b[39mor\u001b[39;00m \u001b[39mself\u001b[39m\u001b[39m.\u001b[39m_forward_hooks \u001b[39mor\u001b[39;00m \u001b[39mself\u001b[39m\u001b[39m.\u001b[39m_forward_pre_hooks \u001b[39mor\u001b[39;00m _global_backward_hooks\n\u001b[1;32m   <a href='file:///root/.cache/pypoetry/virtualenvs/google-kaggle-TDiTHuYo-py3.10/lib/python3.10/site-packages/torch/nn/modules/module.py?line=1128'>1129</a>\u001b[0m         \u001b[39mor\u001b[39;00m _global_forward_hooks \u001b[39mor\u001b[39;00m _global_forward_pre_hooks):\n\u001b[0;32m-> <a href='file:///root/.cache/pypoetry/virtualenvs/google-kaggle-TDiTHuYo-py3.10/lib/python3.10/site-packages/torch/nn/modules/module.py?line=1129'>1130</a>\u001b[0m     \u001b[39mreturn\u001b[39;00m forward_call(\u001b[39m*\u001b[39;49m\u001b[39minput\u001b[39;49m, \u001b[39m*\u001b[39;49m\u001b[39m*\u001b[39;49mkwargs)\n\u001b[1;32m   <a href='file:///root/.cache/pypoetry/virtualenvs/google-kaggle-TDiTHuYo-py3.10/lib/python3.10/site-packages/torch/nn/modules/module.py?line=1130'>1131</a>\u001b[0m \u001b[39m# Do not call functions when jit is used\u001b[39;00m\n\u001b[1;32m   <a href='file:///root/.cache/pypoetry/virtualenvs/google-kaggle-TDiTHuYo-py3.10/lib/python3.10/site-packages/torch/nn/modules/module.py?line=1131'>1132</a>\u001b[0m full_backward_hooks, non_full_backward_hooks \u001b[39m=\u001b[39m [], []\n",
      "File \u001b[0;32m~/.cache/pypoetry/virtualenvs/google-kaggle-TDiTHuYo-py3.10/lib/python3.10/site-packages/torch/nn/modules/container.py:139\u001b[0m, in \u001b[0;36mSequential.forward\u001b[0;34m(self, input)\u001b[0m\n\u001b[1;32m    <a href='file:///root/.cache/pypoetry/virtualenvs/google-kaggle-TDiTHuYo-py3.10/lib/python3.10/site-packages/torch/nn/modules/container.py?line=136'>137</a>\u001b[0m \u001b[39mdef\u001b[39;00m \u001b[39mforward\u001b[39m(\u001b[39mself\u001b[39m, \u001b[39minput\u001b[39m):\n\u001b[1;32m    <a href='file:///root/.cache/pypoetry/virtualenvs/google-kaggle-TDiTHuYo-py3.10/lib/python3.10/site-packages/torch/nn/modules/container.py?line=137'>138</a>\u001b[0m     \u001b[39mfor\u001b[39;00m module \u001b[39min\u001b[39;00m \u001b[39mself\u001b[39m:\n\u001b[0;32m--> <a href='file:///root/.cache/pypoetry/virtualenvs/google-kaggle-TDiTHuYo-py3.10/lib/python3.10/site-packages/torch/nn/modules/container.py?line=138'>139</a>\u001b[0m         \u001b[39minput\u001b[39m \u001b[39m=\u001b[39m module(\u001b[39minput\u001b[39;49m)\n\u001b[1;32m    <a href='file:///root/.cache/pypoetry/virtualenvs/google-kaggle-TDiTHuYo-py3.10/lib/python3.10/site-packages/torch/nn/modules/container.py?line=139'>140</a>\u001b[0m     \u001b[39mreturn\u001b[39;00m \u001b[39minput\u001b[39m\n",
      "File \u001b[0;32m~/.cache/pypoetry/virtualenvs/google-kaggle-TDiTHuYo-py3.10/lib/python3.10/site-packages/torch/nn/modules/module.py:1130\u001b[0m, in \u001b[0;36mModule._call_impl\u001b[0;34m(self, *input, **kwargs)\u001b[0m\n\u001b[1;32m   <a href='file:///root/.cache/pypoetry/virtualenvs/google-kaggle-TDiTHuYo-py3.10/lib/python3.10/site-packages/torch/nn/modules/module.py?line=1125'>1126</a>\u001b[0m \u001b[39m# If we don't have any hooks, we want to skip the rest of the logic in\u001b[39;00m\n\u001b[1;32m   <a href='file:///root/.cache/pypoetry/virtualenvs/google-kaggle-TDiTHuYo-py3.10/lib/python3.10/site-packages/torch/nn/modules/module.py?line=1126'>1127</a>\u001b[0m \u001b[39m# this function, and just call forward.\u001b[39;00m\n\u001b[1;32m   <a href='file:///root/.cache/pypoetry/virtualenvs/google-kaggle-TDiTHuYo-py3.10/lib/python3.10/site-packages/torch/nn/modules/module.py?line=1127'>1128</a>\u001b[0m \u001b[39mif\u001b[39;00m \u001b[39mnot\u001b[39;00m (\u001b[39mself\u001b[39m\u001b[39m.\u001b[39m_backward_hooks \u001b[39mor\u001b[39;00m \u001b[39mself\u001b[39m\u001b[39m.\u001b[39m_forward_hooks \u001b[39mor\u001b[39;00m \u001b[39mself\u001b[39m\u001b[39m.\u001b[39m_forward_pre_hooks \u001b[39mor\u001b[39;00m _global_backward_hooks\n\u001b[1;32m   <a href='file:///root/.cache/pypoetry/virtualenvs/google-kaggle-TDiTHuYo-py3.10/lib/python3.10/site-packages/torch/nn/modules/module.py?line=1128'>1129</a>\u001b[0m         \u001b[39mor\u001b[39;00m _global_forward_hooks \u001b[39mor\u001b[39;00m _global_forward_pre_hooks):\n\u001b[0;32m-> <a href='file:///root/.cache/pypoetry/virtualenvs/google-kaggle-TDiTHuYo-py3.10/lib/python3.10/site-packages/torch/nn/modules/module.py?line=1129'>1130</a>\u001b[0m     \u001b[39mreturn\u001b[39;00m forward_call(\u001b[39m*\u001b[39;49m\u001b[39minput\u001b[39;49m, \u001b[39m*\u001b[39;49m\u001b[39m*\u001b[39;49mkwargs)\n\u001b[1;32m   <a href='file:///root/.cache/pypoetry/virtualenvs/google-kaggle-TDiTHuYo-py3.10/lib/python3.10/site-packages/torch/nn/modules/module.py?line=1130'>1131</a>\u001b[0m \u001b[39m# Do not call functions when jit is used\u001b[39;00m\n\u001b[1;32m   <a href='file:///root/.cache/pypoetry/virtualenvs/google-kaggle-TDiTHuYo-py3.10/lib/python3.10/site-packages/torch/nn/modules/module.py?line=1131'>1132</a>\u001b[0m full_backward_hooks, non_full_backward_hooks \u001b[39m=\u001b[39m [], []\n",
      "File \u001b[0;32m~/.cache/pypoetry/virtualenvs/google-kaggle-TDiTHuYo-py3.10/lib/python3.10/site-packages/torch/nn/modules/conv.py:457\u001b[0m, in \u001b[0;36mConv2d.forward\u001b[0;34m(self, input)\u001b[0m\n\u001b[1;32m    <a href='file:///root/.cache/pypoetry/virtualenvs/google-kaggle-TDiTHuYo-py3.10/lib/python3.10/site-packages/torch/nn/modules/conv.py?line=455'>456</a>\u001b[0m \u001b[39mdef\u001b[39;00m \u001b[39mforward\u001b[39m(\u001b[39mself\u001b[39m, \u001b[39minput\u001b[39m: Tensor) \u001b[39m-\u001b[39m\u001b[39m>\u001b[39m Tensor:\n\u001b[0;32m--> <a href='file:///root/.cache/pypoetry/virtualenvs/google-kaggle-TDiTHuYo-py3.10/lib/python3.10/site-packages/torch/nn/modules/conv.py?line=456'>457</a>\u001b[0m     \u001b[39mreturn\u001b[39;00m \u001b[39mself\u001b[39;49m\u001b[39m.\u001b[39;49m_conv_forward(\u001b[39minput\u001b[39;49m, \u001b[39mself\u001b[39;49m\u001b[39m.\u001b[39;49mweight, \u001b[39mself\u001b[39;49m\u001b[39m.\u001b[39;49mbias)\n",
      "File \u001b[0;32m~/.cache/pypoetry/virtualenvs/google-kaggle-TDiTHuYo-py3.10/lib/python3.10/site-packages/torch/nn/modules/conv.py:453\u001b[0m, in \u001b[0;36mConv2d._conv_forward\u001b[0;34m(self, input, weight, bias)\u001b[0m\n\u001b[1;32m    <a href='file:///root/.cache/pypoetry/virtualenvs/google-kaggle-TDiTHuYo-py3.10/lib/python3.10/site-packages/torch/nn/modules/conv.py?line=448'>449</a>\u001b[0m \u001b[39mif\u001b[39;00m \u001b[39mself\u001b[39m\u001b[39m.\u001b[39mpadding_mode \u001b[39m!=\u001b[39m \u001b[39m'\u001b[39m\u001b[39mzeros\u001b[39m\u001b[39m'\u001b[39m:\n\u001b[1;32m    <a href='file:///root/.cache/pypoetry/virtualenvs/google-kaggle-TDiTHuYo-py3.10/lib/python3.10/site-packages/torch/nn/modules/conv.py?line=449'>450</a>\u001b[0m     \u001b[39mreturn\u001b[39;00m F\u001b[39m.\u001b[39mconv2d(F\u001b[39m.\u001b[39mpad(\u001b[39minput\u001b[39m, \u001b[39mself\u001b[39m\u001b[39m.\u001b[39m_reversed_padding_repeated_twice, mode\u001b[39m=\u001b[39m\u001b[39mself\u001b[39m\u001b[39m.\u001b[39mpadding_mode),\n\u001b[1;32m    <a href='file:///root/.cache/pypoetry/virtualenvs/google-kaggle-TDiTHuYo-py3.10/lib/python3.10/site-packages/torch/nn/modules/conv.py?line=450'>451</a>\u001b[0m                     weight, bias, \u001b[39mself\u001b[39m\u001b[39m.\u001b[39mstride,\n\u001b[1;32m    <a href='file:///root/.cache/pypoetry/virtualenvs/google-kaggle-TDiTHuYo-py3.10/lib/python3.10/site-packages/torch/nn/modules/conv.py?line=451'>452</a>\u001b[0m                     _pair(\u001b[39m0\u001b[39m), \u001b[39mself\u001b[39m\u001b[39m.\u001b[39mdilation, \u001b[39mself\u001b[39m\u001b[39m.\u001b[39mgroups)\n\u001b[0;32m--> <a href='file:///root/.cache/pypoetry/virtualenvs/google-kaggle-TDiTHuYo-py3.10/lib/python3.10/site-packages/torch/nn/modules/conv.py?line=452'>453</a>\u001b[0m \u001b[39mreturn\u001b[39;00m F\u001b[39m.\u001b[39;49mconv2d(\u001b[39minput\u001b[39;49m, weight, bias, \u001b[39mself\u001b[39;49m\u001b[39m.\u001b[39;49mstride,\n\u001b[1;32m    <a href='file:///root/.cache/pypoetry/virtualenvs/google-kaggle-TDiTHuYo-py3.10/lib/python3.10/site-packages/torch/nn/modules/conv.py?line=453'>454</a>\u001b[0m                 \u001b[39mself\u001b[39;49m\u001b[39m.\u001b[39;49mpadding, \u001b[39mself\u001b[39;49m\u001b[39m.\u001b[39;49mdilation, \u001b[39mself\u001b[39;49m\u001b[39m.\u001b[39;49mgroups)\n",
      "\u001b[0;31mKeyboardInterrupt\u001b[0m: "
     ]
    }
   ],
   "source": [
    "fit(triplet_train_loader,  model, loss_fn, optimizer, scheduler, n_epochs, cuda, log_interval)"
   ]
  },
  {
   "cell_type": "code",
   "execution_count": null,
   "metadata": {},
   "outputs": [],
   "source": []
  }
 ],
 "metadata": {
  "interpreter": {
   "hash": "b16d598b507b51a8e838bd3fb72f2ad056db85a2baafe19ab41eeb0f2c88d46c"
  },
  "kernelspec": {
   "display_name": "Python 3.10.4 ('google-kaggle-TDiTHuYo-py3.10')",
   "language": "python",
   "name": "python3"
  },
  "language_info": {
   "codemirror_mode": {
    "name": "ipython",
    "version": 3
   },
   "file_extension": ".py",
   "mimetype": "text/x-python",
   "name": "python",
   "nbconvert_exporter": "python",
   "pygments_lexer": "ipython3",
   "version": "3.10.4"
  },
  "orig_nbformat": 4
 },
 "nbformat": 4,
 "nbformat_minor": 2
}
