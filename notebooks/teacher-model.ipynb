{
 "cells": [
  {
   "cell_type": "code",
   "execution_count": 2,
   "metadata": {},
   "outputs": [
    {
     "name": "stdout",
     "output_type": "stream",
     "text": [
      "The autoreload extension is already loaded. To reload it, use:\n",
      "  %reload_ext autoreload\n"
     ]
    }
   ],
   "source": [
    "%load_ext autoreload\n",
    "%autoreload 2"
   ]
  },
  {
   "cell_type": "code",
   "execution_count": 3,
   "metadata": {},
   "outputs": [],
   "source": [
    "import torch\n",
    "from torch.optim import lr_scheduler\n",
    "import torch.optim as optim\n",
    "from torch.autograd import Variable\n",
    "\n",
    "from trainer import fit\n",
    "import numpy as np\n",
    "cuda = torch.cuda.is_available()\n",
    "\n",
    "%matplotlib inline\n",
    "import matplotlib\n",
    "import matplotlib.pyplot as plt"
   ]
  },
  {
   "cell_type": "code",
   "execution_count": 4,
   "metadata": {},
   "outputs": [],
   "source": [
    "from torchvision.datasets import ImageFolder"
   ]
  },
  {
   "cell_type": "code",
   "execution_count": 5,
   "metadata": {},
   "outputs": [],
   "source": [
    "train_dataset = ImageFolder(\"/workspaces/google-kaggle-competition/data/teacher_data/Dishes\")"
   ]
  },
  {
   "cell_type": "code",
   "execution_count": 6,
   "metadata": {},
   "outputs": [
    {
     "data": {
      "text/plain": [
       "Dataset ImageFolder\n",
       "    Number of datapoints: 9000\n",
       "    Root location: /workspaces/google-kaggle-competition/data/teacher_data/Dishes"
      ]
     },
     "execution_count": 6,
     "metadata": {},
     "output_type": "execute_result"
    }
   ],
   "source": [
    "train_dataset"
   ]
  },
  {
   "cell_type": "code",
   "execution_count": 7,
   "metadata": {},
   "outputs": [
    {
     "data": {
      "text/plain": [
       "(<PIL.Image.Image image mode=RGB size=224x224>, 0)"
      ]
     },
     "execution_count": 7,
     "metadata": {},
     "output_type": "execute_result"
    }
   ],
   "source": [
    "train_dataset[0]"
   ]
  },
  {
   "cell_type": "code",
   "execution_count": 8,
   "metadata": {},
   "outputs": [
    {
     "data": {
      "text/plain": [
       "{0, 1, 2, 3, 4, 5}"
      ]
     },
     "execution_count": 8,
     "metadata": {},
     "output_type": "execute_result"
    }
   ],
   "source": [
    "set(train_dataset.targets)"
   ]
  },
  {
   "cell_type": "code",
   "execution_count": 9,
   "metadata": {},
   "outputs": [
    {
     "data": {
      "text/plain": [
       "{'American': 0,\n",
       " 'Chinese': 1,\n",
       " 'European': 2,\n",
       " 'Indian': 3,\n",
       " 'Japanese': 4,\n",
       " 'Korean': 5}"
      ]
     },
     "execution_count": 9,
     "metadata": {},
     "output_type": "execute_result"
    }
   ],
   "source": [
    "train_dataset.class_to_idx"
   ]
  },
  {
   "cell_type": "code",
   "execution_count": 10,
   "metadata": {},
   "outputs": [],
   "source": [
    "from datasets import TripletMNIST\n"
   ]
  },
  {
   "cell_type": "code",
   "execution_count": 9,
   "metadata": {},
   "outputs": [],
   "source": [
    "triplet_train_dataset = TripletMNIST(train_dataset, True) # Returns triplets of images\n"
   ]
  },
  {
   "cell_type": "code",
   "execution_count": 11,
   "metadata": {},
   "outputs": [],
   "source": [
    "import torch"
   ]
  },
  {
   "cell_type": "code",
   "execution_count": 12,
   "metadata": {},
   "outputs": [
    {
     "ename": "NameError",
     "evalue": "name 'triplet_train_dataset' is not defined",
     "output_type": "error",
     "traceback": [
      "\u001b[0;31m---------------------------------------------------------------------------\u001b[0m",
      "\u001b[0;31mNameError\u001b[0m                                 Traceback (most recent call last)",
      "\u001b[1;32m/workspaces/google-kaggle-competition/notebooks/teacher-model.ipynb Cell 12'\u001b[0m in \u001b[0;36m<cell line: 3>\u001b[0;34m()\u001b[0m\n\u001b[1;32m      <a href='vscode-notebook-cell://codespaces%2Biterative-google-kaggle-competition-xvrvq46j397rv/workspaces/google-kaggle-competition/notebooks/teacher-model.ipynb#ch0000010vscode-remote?line=0'>1</a>\u001b[0m batch_size \u001b[39m=\u001b[39m \u001b[39m128\u001b[39m\n\u001b[1;32m      <a href='vscode-notebook-cell://codespaces%2Biterative-google-kaggle-competition-xvrvq46j397rv/workspaces/google-kaggle-competition/notebooks/teacher-model.ipynb#ch0000010vscode-remote?line=1'>2</a>\u001b[0m kwargs \u001b[39m=\u001b[39m {\u001b[39m'\u001b[39m\u001b[39mnum_workers\u001b[39m\u001b[39m'\u001b[39m: \u001b[39m1\u001b[39m, \u001b[39m'\u001b[39m\u001b[39mpin_memory\u001b[39m\u001b[39m'\u001b[39m: \u001b[39mTrue\u001b[39;00m} \u001b[39mif\u001b[39;00m torch\u001b[39m.\u001b[39mcuda\u001b[39m.\u001b[39mis_available() \u001b[39melse\u001b[39;00m {}\n\u001b[0;32m----> <a href='vscode-notebook-cell://codespaces%2Biterative-google-kaggle-competition-xvrvq46j397rv/workspaces/google-kaggle-competition/notebooks/teacher-model.ipynb#ch0000010vscode-remote?line=2'>3</a>\u001b[0m triplet_train_loader \u001b[39m=\u001b[39m torch\u001b[39m.\u001b[39mutils\u001b[39m.\u001b[39mdata\u001b[39m.\u001b[39mDataLoader(triplet_train_dataset, batch_size\u001b[39m=\u001b[39mbatch_size, shuffle\u001b[39m=\u001b[39m\u001b[39mTrue\u001b[39;00m, \u001b[39m*\u001b[39m\u001b[39m*\u001b[39mkwargs)\n",
      "\u001b[0;31mNameError\u001b[0m: name 'triplet_train_dataset' is not defined"
     ]
    }
   ],
   "source": [
    "batch_size = 128\n",
    "kwargs = {'num_workers': 1, 'pin_memory': True} if torch.cuda.is_available() else {}\n",
    "triplet_train_loader = torch.utils.data.DataLoader(triplet_train_dataset, batch_size=batch_size, shuffle=True, **kwargs)\n"
   ]
  },
  {
   "cell_type": "code",
   "execution_count": 13,
   "metadata": {},
   "outputs": [],
   "source": [
    "cuda = torch.cuda.is_available()"
   ]
  },
  {
   "cell_type": "code",
   "execution_count": 14,
   "metadata": {},
   "outputs": [],
   "source": [
    "import numpy as np"
   ]
  },
  {
   "cell_type": "code",
   "execution_count": 15,
   "metadata": {},
   "outputs": [],
   "source": [
    "triplet_train_dataset = TripletMNIST(train_dataset, train=True) # Returns triplets of images\n",
    "# triplet_test_dataset = TripletMNIST(test_dataset)\n",
    "batch_size = 128\n",
    "kwargs = {'num_workers': 1, 'pin_memory': True} if cuda else {}\n",
    "triplet_train_loader = torch.utils.data.DataLoader(triplet_train_dataset, batch_size=batch_size, shuffle=True, **kwargs)\n",
    "# triplet_test_loader = torch.utils.data.DataLoader(triplet_test_dataset, batch_size=batch_size, shuffle=False, **kwargs)\n",
    "\n",
    "# Set up the network and training parameters\n",
    "from networks import EmbeddingNet, TripletNet\n",
    "from losses import TripletLoss\n",
    "\n",
    "margin = 1.\n",
    "embedding_net = EmbeddingNet()\n",
    "model = TripletNet(embedding_net)\n",
    "\n",
    "if cuda:\n",
    "    model.cuda()\n",
    "loss_fn = TripletLoss(margin)\n",
    "lr = 1e-3\n",
    "optimizer = optim.Adam(model.parameters(), lr=lr)\n",
    "scheduler = lr_scheduler.StepLR(optimizer, 8, gamma=0.1, last_epoch=-1)\n",
    "n_epochs = 1\n",
    "log_interval = 100"
   ]
  },
  {
   "cell_type": "code",
   "execution_count": 26,
   "metadata": {},
   "outputs": [],
   "source": [
    "for (data, target) in (triplet_train_loader):\n",
    "   test = data\n",
    "   break"
   ]
  },
  {
   "cell_type": "code",
   "execution_count": 18,
   "metadata": {},
   "outputs": [
    {
     "ename": "KeyboardInterrupt",
     "evalue": "",
     "output_type": "error",
     "traceback": [
      "\u001b[0;31m---------------------------------------------------------------------------\u001b[0m",
      "\u001b[0;31mKeyboardInterrupt\u001b[0m                         Traceback (most recent call last)",
      "\u001b[1;32m/workspaces/google-kaggle-competition/notebooks/teacher-model.ipynb Cell 17'\u001b[0m in \u001b[0;36m<cell line: 1>\u001b[0;34m()\u001b[0m\n\u001b[0;32m----> <a href='vscode-notebook-cell://codespaces%2Biterative-google-kaggle-competition-xvrvq46j397rv/workspaces/google-kaggle-competition/notebooks/teacher-model.ipynb#ch0000016vscode-remote?line=0'>1</a>\u001b[0m fit(triplet_train_loader,  model, loss_fn, optimizer, scheduler, n_epochs, cuda, log_interval)\n",
      "File \u001b[0;32m/workspaces/google-kaggle-competition/notebooks/trainer.py:23\u001b[0m, in \u001b[0;36mfit\u001b[0;34m(train_loader, model, loss_fn, optimizer, scheduler, n_epochs, cuda, log_interval, metrics, start_epoch)\u001b[0m\n\u001b[1;32m     <a href='file:///workspaces/google-kaggle-competition/notebooks/trainer.py?line=19'>20</a>\u001b[0m scheduler\u001b[39m.\u001b[39mstep()\n\u001b[1;32m     <a href='file:///workspaces/google-kaggle-competition/notebooks/trainer.py?line=21'>22</a>\u001b[0m \u001b[39m# Train stage\u001b[39;00m\n\u001b[0;32m---> <a href='file:///workspaces/google-kaggle-competition/notebooks/trainer.py?line=22'>23</a>\u001b[0m train_loss, metrics \u001b[39m=\u001b[39m train_epoch(train_loader, model, loss_fn, optimizer, cuda, log_interval, metrics)\n\u001b[1;32m     <a href='file:///workspaces/google-kaggle-competition/notebooks/trainer.py?line=24'>25</a>\u001b[0m message \u001b[39m=\u001b[39m \u001b[39m'\u001b[39m\u001b[39mEpoch: \u001b[39m\u001b[39m{}\u001b[39;00m\u001b[39m/\u001b[39m\u001b[39m{}\u001b[39;00m\u001b[39m. Train set: Average loss: \u001b[39m\u001b[39m{:.4f}\u001b[39;00m\u001b[39m'\u001b[39m\u001b[39m.\u001b[39mformat(epoch \u001b[39m+\u001b[39m \u001b[39m1\u001b[39m, n_epochs, train_loss)\n\u001b[1;32m     <a href='file:///workspaces/google-kaggle-competition/notebooks/trainer.py?line=25'>26</a>\u001b[0m \u001b[39mfor\u001b[39;00m metric \u001b[39min\u001b[39;00m metrics:\n",
      "File \u001b[0;32m/workspaces/google-kaggle-competition/notebooks/trainer.py:48\u001b[0m, in \u001b[0;36mtrain_epoch\u001b[0;34m(train_loader, model, loss_fn, optimizer, cuda, log_interval, metrics)\u001b[0m\n\u001b[1;32m     <a href='file:///workspaces/google-kaggle-competition/notebooks/trainer.py?line=44'>45</a>\u001b[0m losses \u001b[39m=\u001b[39m []\n\u001b[1;32m     <a href='file:///workspaces/google-kaggle-competition/notebooks/trainer.py?line=45'>46</a>\u001b[0m total_loss \u001b[39m=\u001b[39m \u001b[39m0\u001b[39m\n\u001b[0;32m---> <a href='file:///workspaces/google-kaggle-competition/notebooks/trainer.py?line=47'>48</a>\u001b[0m \u001b[39mfor\u001b[39;00m batch_idx, (data, target) \u001b[39min\u001b[39;00m \u001b[39menumerate\u001b[39m(train_loader):\n\u001b[1;32m     <a href='file:///workspaces/google-kaggle-competition/notebooks/trainer.py?line=48'>49</a>\u001b[0m     target \u001b[39m=\u001b[39m target \u001b[39mif\u001b[39;00m \u001b[39mlen\u001b[39m(target) \u001b[39m>\u001b[39m \u001b[39m0\u001b[39m \u001b[39melse\u001b[39;00m \u001b[39mNone\u001b[39;00m\n\u001b[1;32m     <a href='file:///workspaces/google-kaggle-competition/notebooks/trainer.py?line=49'>50</a>\u001b[0m     \u001b[39mif\u001b[39;00m \u001b[39mnot\u001b[39;00m \u001b[39mtype\u001b[39m(data) \u001b[39min\u001b[39;00m (\u001b[39mtuple\u001b[39m, \u001b[39mlist\u001b[39m):\n",
      "File \u001b[0;32m~/.cache/pypoetry/virtualenvs/google-kaggle-TDiTHuYo-py3.10/lib/python3.10/site-packages/torch/utils/data/dataloader.py:652\u001b[0m, in \u001b[0;36m_BaseDataLoaderIter.__next__\u001b[0;34m(self)\u001b[0m\n\u001b[1;32m    <a href='file:///root/.cache/pypoetry/virtualenvs/google-kaggle-TDiTHuYo-py3.10/lib/python3.10/site-packages/torch/utils/data/dataloader.py?line=648'>649</a>\u001b[0m \u001b[39mif\u001b[39;00m \u001b[39mself\u001b[39m\u001b[39m.\u001b[39m_sampler_iter \u001b[39mis\u001b[39;00m \u001b[39mNone\u001b[39;00m:\n\u001b[1;32m    <a href='file:///root/.cache/pypoetry/virtualenvs/google-kaggle-TDiTHuYo-py3.10/lib/python3.10/site-packages/torch/utils/data/dataloader.py?line=649'>650</a>\u001b[0m     \u001b[39m# TODO(https://github.com/pytorch/pytorch/issues/76750)\u001b[39;00m\n\u001b[1;32m    <a href='file:///root/.cache/pypoetry/virtualenvs/google-kaggle-TDiTHuYo-py3.10/lib/python3.10/site-packages/torch/utils/data/dataloader.py?line=650'>651</a>\u001b[0m     \u001b[39mself\u001b[39m\u001b[39m.\u001b[39m_reset()  \u001b[39m# type: ignore[call-arg]\u001b[39;00m\n\u001b[0;32m--> <a href='file:///root/.cache/pypoetry/virtualenvs/google-kaggle-TDiTHuYo-py3.10/lib/python3.10/site-packages/torch/utils/data/dataloader.py?line=651'>652</a>\u001b[0m data \u001b[39m=\u001b[39m \u001b[39mself\u001b[39;49m\u001b[39m.\u001b[39;49m_next_data()\n\u001b[1;32m    <a href='file:///root/.cache/pypoetry/virtualenvs/google-kaggle-TDiTHuYo-py3.10/lib/python3.10/site-packages/torch/utils/data/dataloader.py?line=652'>653</a>\u001b[0m \u001b[39mself\u001b[39m\u001b[39m.\u001b[39m_num_yielded \u001b[39m+\u001b[39m\u001b[39m=\u001b[39m \u001b[39m1\u001b[39m\n\u001b[1;32m    <a href='file:///root/.cache/pypoetry/virtualenvs/google-kaggle-TDiTHuYo-py3.10/lib/python3.10/site-packages/torch/utils/data/dataloader.py?line=653'>654</a>\u001b[0m \u001b[39mif\u001b[39;00m \u001b[39mself\u001b[39m\u001b[39m.\u001b[39m_dataset_kind \u001b[39m==\u001b[39m _DatasetKind\u001b[39m.\u001b[39mIterable \u001b[39mand\u001b[39;00m \\\n\u001b[1;32m    <a href='file:///root/.cache/pypoetry/virtualenvs/google-kaggle-TDiTHuYo-py3.10/lib/python3.10/site-packages/torch/utils/data/dataloader.py?line=654'>655</a>\u001b[0m         \u001b[39mself\u001b[39m\u001b[39m.\u001b[39m_IterableDataset_len_called \u001b[39mis\u001b[39;00m \u001b[39mnot\u001b[39;00m \u001b[39mNone\u001b[39;00m \u001b[39mand\u001b[39;00m \\\n\u001b[1;32m    <a href='file:///root/.cache/pypoetry/virtualenvs/google-kaggle-TDiTHuYo-py3.10/lib/python3.10/site-packages/torch/utils/data/dataloader.py?line=655'>656</a>\u001b[0m         \u001b[39mself\u001b[39m\u001b[39m.\u001b[39m_num_yielded \u001b[39m>\u001b[39m \u001b[39mself\u001b[39m\u001b[39m.\u001b[39m_IterableDataset_len_called:\n",
      "File \u001b[0;32m~/.cache/pypoetry/virtualenvs/google-kaggle-TDiTHuYo-py3.10/lib/python3.10/site-packages/torch/utils/data/dataloader.py:692\u001b[0m, in \u001b[0;36m_SingleProcessDataLoaderIter._next_data\u001b[0;34m(self)\u001b[0m\n\u001b[1;32m    <a href='file:///root/.cache/pypoetry/virtualenvs/google-kaggle-TDiTHuYo-py3.10/lib/python3.10/site-packages/torch/utils/data/dataloader.py?line=689'>690</a>\u001b[0m \u001b[39mdef\u001b[39;00m \u001b[39m_next_data\u001b[39m(\u001b[39mself\u001b[39m):\n\u001b[1;32m    <a href='file:///root/.cache/pypoetry/virtualenvs/google-kaggle-TDiTHuYo-py3.10/lib/python3.10/site-packages/torch/utils/data/dataloader.py?line=690'>691</a>\u001b[0m     index \u001b[39m=\u001b[39m \u001b[39mself\u001b[39m\u001b[39m.\u001b[39m_next_index()  \u001b[39m# may raise StopIteration\u001b[39;00m\n\u001b[0;32m--> <a href='file:///root/.cache/pypoetry/virtualenvs/google-kaggle-TDiTHuYo-py3.10/lib/python3.10/site-packages/torch/utils/data/dataloader.py?line=691'>692</a>\u001b[0m     data \u001b[39m=\u001b[39m \u001b[39mself\u001b[39;49m\u001b[39m.\u001b[39;49m_dataset_fetcher\u001b[39m.\u001b[39;49mfetch(index)  \u001b[39m# may raise StopIteration\u001b[39;00m\n\u001b[1;32m    <a href='file:///root/.cache/pypoetry/virtualenvs/google-kaggle-TDiTHuYo-py3.10/lib/python3.10/site-packages/torch/utils/data/dataloader.py?line=692'>693</a>\u001b[0m     \u001b[39mif\u001b[39;00m \u001b[39mself\u001b[39m\u001b[39m.\u001b[39m_pin_memory:\n\u001b[1;32m    <a href='file:///root/.cache/pypoetry/virtualenvs/google-kaggle-TDiTHuYo-py3.10/lib/python3.10/site-packages/torch/utils/data/dataloader.py?line=693'>694</a>\u001b[0m         data \u001b[39m=\u001b[39m _utils\u001b[39m.\u001b[39mpin_memory\u001b[39m.\u001b[39mpin_memory(data, \u001b[39mself\u001b[39m\u001b[39m.\u001b[39m_pin_memory_device)\n",
      "File \u001b[0;32m~/.cache/pypoetry/virtualenvs/google-kaggle-TDiTHuYo-py3.10/lib/python3.10/site-packages/torch/utils/data/_utils/fetch.py:49\u001b[0m, in \u001b[0;36m_MapDatasetFetcher.fetch\u001b[0;34m(self, possibly_batched_index)\u001b[0m\n\u001b[1;32m     <a href='file:///root/.cache/pypoetry/virtualenvs/google-kaggle-TDiTHuYo-py3.10/lib/python3.10/site-packages/torch/utils/data/_utils/fetch.py?line=46'>47</a>\u001b[0m \u001b[39mdef\u001b[39;00m \u001b[39mfetch\u001b[39m(\u001b[39mself\u001b[39m, possibly_batched_index):\n\u001b[1;32m     <a href='file:///root/.cache/pypoetry/virtualenvs/google-kaggle-TDiTHuYo-py3.10/lib/python3.10/site-packages/torch/utils/data/_utils/fetch.py?line=47'>48</a>\u001b[0m     \u001b[39mif\u001b[39;00m \u001b[39mself\u001b[39m\u001b[39m.\u001b[39mauto_collation:\n\u001b[0;32m---> <a href='file:///root/.cache/pypoetry/virtualenvs/google-kaggle-TDiTHuYo-py3.10/lib/python3.10/site-packages/torch/utils/data/_utils/fetch.py?line=48'>49</a>\u001b[0m         data \u001b[39m=\u001b[39m [\u001b[39mself\u001b[39m\u001b[39m.\u001b[39mdataset[idx] \u001b[39mfor\u001b[39;00m idx \u001b[39min\u001b[39;00m possibly_batched_index]\n\u001b[1;32m     <a href='file:///root/.cache/pypoetry/virtualenvs/google-kaggle-TDiTHuYo-py3.10/lib/python3.10/site-packages/torch/utils/data/_utils/fetch.py?line=49'>50</a>\u001b[0m     \u001b[39melse\u001b[39;00m:\n\u001b[1;32m     <a href='file:///root/.cache/pypoetry/virtualenvs/google-kaggle-TDiTHuYo-py3.10/lib/python3.10/site-packages/torch/utils/data/_utils/fetch.py?line=50'>51</a>\u001b[0m         data \u001b[39m=\u001b[39m \u001b[39mself\u001b[39m\u001b[39m.\u001b[39mdataset[possibly_batched_index]\n",
      "File \u001b[0;32m~/.cache/pypoetry/virtualenvs/google-kaggle-TDiTHuYo-py3.10/lib/python3.10/site-packages/torch/utils/data/_utils/fetch.py:49\u001b[0m, in \u001b[0;36m<listcomp>\u001b[0;34m(.0)\u001b[0m\n\u001b[1;32m     <a href='file:///root/.cache/pypoetry/virtualenvs/google-kaggle-TDiTHuYo-py3.10/lib/python3.10/site-packages/torch/utils/data/_utils/fetch.py?line=46'>47</a>\u001b[0m \u001b[39mdef\u001b[39;00m \u001b[39mfetch\u001b[39m(\u001b[39mself\u001b[39m, possibly_batched_index):\n\u001b[1;32m     <a href='file:///root/.cache/pypoetry/virtualenvs/google-kaggle-TDiTHuYo-py3.10/lib/python3.10/site-packages/torch/utils/data/_utils/fetch.py?line=47'>48</a>\u001b[0m     \u001b[39mif\u001b[39;00m \u001b[39mself\u001b[39m\u001b[39m.\u001b[39mauto_collation:\n\u001b[0;32m---> <a href='file:///root/.cache/pypoetry/virtualenvs/google-kaggle-TDiTHuYo-py3.10/lib/python3.10/site-packages/torch/utils/data/_utils/fetch.py?line=48'>49</a>\u001b[0m         data \u001b[39m=\u001b[39m [\u001b[39mself\u001b[39;49m\u001b[39m.\u001b[39;49mdataset[idx] \u001b[39mfor\u001b[39;00m idx \u001b[39min\u001b[39;00m possibly_batched_index]\n\u001b[1;32m     <a href='file:///root/.cache/pypoetry/virtualenvs/google-kaggle-TDiTHuYo-py3.10/lib/python3.10/site-packages/torch/utils/data/_utils/fetch.py?line=49'>50</a>\u001b[0m     \u001b[39melse\u001b[39;00m:\n\u001b[1;32m     <a href='file:///root/.cache/pypoetry/virtualenvs/google-kaggle-TDiTHuYo-py3.10/lib/python3.10/site-packages/torch/utils/data/_utils/fetch.py?line=50'>51</a>\u001b[0m         data \u001b[39m=\u001b[39m \u001b[39mself\u001b[39m\u001b[39m.\u001b[39mdataset[possibly_batched_index]\n",
      "File \u001b[0;32m/workspaces/google-kaggle-competition/notebooks/datasets.py:111\u001b[0m, in \u001b[0;36mTripletMNIST.__getitem__\u001b[0;34m(self, index)\u001b[0m\n\u001b[1;32m    <a href='file:///workspaces/google-kaggle-competition/notebooks/datasets.py?line=108'>109</a>\u001b[0m \u001b[39mdef\u001b[39;00m \u001b[39m__getitem__\u001b[39m(\u001b[39mself\u001b[39m, index):\n\u001b[1;32m    <a href='file:///workspaces/google-kaggle-competition/notebooks/datasets.py?line=109'>110</a>\u001b[0m     \u001b[39mif\u001b[39;00m \u001b[39mself\u001b[39m\u001b[39m.\u001b[39mtrain:\n\u001b[0;32m--> <a href='file:///workspaces/google-kaggle-competition/notebooks/datasets.py?line=110'>111</a>\u001b[0m         img1, label1 \u001b[39m=\u001b[39m \u001b[39mself\u001b[39;49m\u001b[39m.\u001b[39;49mtrain_data[index], \u001b[39mself\u001b[39m\u001b[39m.\u001b[39mtrain_labels[index] \u001b[39m#.item()\u001b[39;00m\n\u001b[1;32m    <a href='file:///workspaces/google-kaggle-competition/notebooks/datasets.py?line=111'>112</a>\u001b[0m         positive_index \u001b[39m=\u001b[39m index\n\u001b[1;32m    <a href='file:///workspaces/google-kaggle-competition/notebooks/datasets.py?line=112'>113</a>\u001b[0m         \u001b[39mwhile\u001b[39;00m positive_index \u001b[39m==\u001b[39m index:\n",
      "File \u001b[0;32m~/.cache/pypoetry/virtualenvs/google-kaggle-TDiTHuYo-py3.10/lib/python3.10/site-packages/torchvision/datasets/folder.py:230\u001b[0m, in \u001b[0;36mDatasetFolder.__getitem__\u001b[0;34m(self, index)\u001b[0m\n\u001b[1;32m    <a href='file:///root/.cache/pypoetry/virtualenvs/google-kaggle-TDiTHuYo-py3.10/lib/python3.10/site-packages/torchvision/datasets/folder.py?line=221'>222</a>\u001b[0m \u001b[39m\"\"\"\u001b[39;00m\n\u001b[1;32m    <a href='file:///root/.cache/pypoetry/virtualenvs/google-kaggle-TDiTHuYo-py3.10/lib/python3.10/site-packages/torchvision/datasets/folder.py?line=222'>223</a>\u001b[0m \u001b[39mArgs:\u001b[39;00m\n\u001b[1;32m    <a href='file:///root/.cache/pypoetry/virtualenvs/google-kaggle-TDiTHuYo-py3.10/lib/python3.10/site-packages/torchvision/datasets/folder.py?line=223'>224</a>\u001b[0m \u001b[39m    index (int): Index\u001b[39;00m\n\u001b[0;32m   (...)\u001b[0m\n\u001b[1;32m    <a href='file:///root/.cache/pypoetry/virtualenvs/google-kaggle-TDiTHuYo-py3.10/lib/python3.10/site-packages/torchvision/datasets/folder.py?line=226'>227</a>\u001b[0m \u001b[39m    tuple: (sample, target) where target is class_index of the target class.\u001b[39;00m\n\u001b[1;32m    <a href='file:///root/.cache/pypoetry/virtualenvs/google-kaggle-TDiTHuYo-py3.10/lib/python3.10/site-packages/torchvision/datasets/folder.py?line=227'>228</a>\u001b[0m \u001b[39m\"\"\"\u001b[39;00m\n\u001b[1;32m    <a href='file:///root/.cache/pypoetry/virtualenvs/google-kaggle-TDiTHuYo-py3.10/lib/python3.10/site-packages/torchvision/datasets/folder.py?line=228'>229</a>\u001b[0m path, target \u001b[39m=\u001b[39m \u001b[39mself\u001b[39m\u001b[39m.\u001b[39msamples[index]\n\u001b[0;32m--> <a href='file:///root/.cache/pypoetry/virtualenvs/google-kaggle-TDiTHuYo-py3.10/lib/python3.10/site-packages/torchvision/datasets/folder.py?line=229'>230</a>\u001b[0m sample \u001b[39m=\u001b[39m \u001b[39mself\u001b[39;49m\u001b[39m.\u001b[39;49mloader(path)\n\u001b[1;32m    <a href='file:///root/.cache/pypoetry/virtualenvs/google-kaggle-TDiTHuYo-py3.10/lib/python3.10/site-packages/torchvision/datasets/folder.py?line=230'>231</a>\u001b[0m \u001b[39mif\u001b[39;00m \u001b[39mself\u001b[39m\u001b[39m.\u001b[39mtransform \u001b[39mis\u001b[39;00m \u001b[39mnot\u001b[39;00m \u001b[39mNone\u001b[39;00m:\n\u001b[1;32m    <a href='file:///root/.cache/pypoetry/virtualenvs/google-kaggle-TDiTHuYo-py3.10/lib/python3.10/site-packages/torchvision/datasets/folder.py?line=231'>232</a>\u001b[0m     sample \u001b[39m=\u001b[39m \u001b[39mself\u001b[39m\u001b[39m.\u001b[39mtransform(sample)\n",
      "File \u001b[0;32m~/.cache/pypoetry/virtualenvs/google-kaggle-TDiTHuYo-py3.10/lib/python3.10/site-packages/torchvision/datasets/folder.py:269\u001b[0m, in \u001b[0;36mdefault_loader\u001b[0;34m(path)\u001b[0m\n\u001b[1;32m    <a href='file:///root/.cache/pypoetry/virtualenvs/google-kaggle-TDiTHuYo-py3.10/lib/python3.10/site-packages/torchvision/datasets/folder.py?line=266'>267</a>\u001b[0m     \u001b[39mreturn\u001b[39;00m accimage_loader(path)\n\u001b[1;32m    <a href='file:///root/.cache/pypoetry/virtualenvs/google-kaggle-TDiTHuYo-py3.10/lib/python3.10/site-packages/torchvision/datasets/folder.py?line=267'>268</a>\u001b[0m \u001b[39melse\u001b[39;00m:\n\u001b[0;32m--> <a href='file:///root/.cache/pypoetry/virtualenvs/google-kaggle-TDiTHuYo-py3.10/lib/python3.10/site-packages/torchvision/datasets/folder.py?line=268'>269</a>\u001b[0m     \u001b[39mreturn\u001b[39;00m pil_loader(path)\n",
      "File \u001b[0;32m~/.cache/pypoetry/virtualenvs/google-kaggle-TDiTHuYo-py3.10/lib/python3.10/site-packages/torchvision/datasets/folder.py:249\u001b[0m, in \u001b[0;36mpil_loader\u001b[0;34m(path)\u001b[0m\n\u001b[1;32m    <a href='file:///root/.cache/pypoetry/virtualenvs/google-kaggle-TDiTHuYo-py3.10/lib/python3.10/site-packages/torchvision/datasets/folder.py?line=246'>247</a>\u001b[0m \u001b[39mwith\u001b[39;00m \u001b[39mopen\u001b[39m(path, \u001b[39m\"\u001b[39m\u001b[39mrb\u001b[39m\u001b[39m\"\u001b[39m) \u001b[39mas\u001b[39;00m f:\n\u001b[1;32m    <a href='file:///root/.cache/pypoetry/virtualenvs/google-kaggle-TDiTHuYo-py3.10/lib/python3.10/site-packages/torchvision/datasets/folder.py?line=247'>248</a>\u001b[0m     img \u001b[39m=\u001b[39m Image\u001b[39m.\u001b[39mopen(f)\n\u001b[0;32m--> <a href='file:///root/.cache/pypoetry/virtualenvs/google-kaggle-TDiTHuYo-py3.10/lib/python3.10/site-packages/torchvision/datasets/folder.py?line=248'>249</a>\u001b[0m     \u001b[39mreturn\u001b[39;00m img\u001b[39m.\u001b[39;49mconvert(\u001b[39m\"\u001b[39;49m\u001b[39mRGB\u001b[39;49m\u001b[39m\"\u001b[39;49m)\n",
      "File \u001b[0;32m~/.cache/pypoetry/virtualenvs/google-kaggle-TDiTHuYo-py3.10/lib/python3.10/site-packages/PIL/Image.py:901\u001b[0m, in \u001b[0;36mImage.convert\u001b[0;34m(self, mode, matrix, dither, palette, colors)\u001b[0m\n\u001b[1;32m    <a href='file:///root/.cache/pypoetry/virtualenvs/google-kaggle-TDiTHuYo-py3.10/lib/python3.10/site-packages/PIL/Image.py?line=855'>856</a>\u001b[0m \u001b[39mdef\u001b[39;00m \u001b[39mconvert\u001b[39m(\n\u001b[1;32m    <a href='file:///root/.cache/pypoetry/virtualenvs/google-kaggle-TDiTHuYo-py3.10/lib/python3.10/site-packages/PIL/Image.py?line=856'>857</a>\u001b[0m     \u001b[39mself\u001b[39m, mode\u001b[39m=\u001b[39m\u001b[39mNone\u001b[39;00m, matrix\u001b[39m=\u001b[39m\u001b[39mNone\u001b[39;00m, dither\u001b[39m=\u001b[39m\u001b[39mNone\u001b[39;00m, palette\u001b[39m=\u001b[39mPalette\u001b[39m.\u001b[39mWEB, colors\u001b[39m=\u001b[39m\u001b[39m256\u001b[39m\n\u001b[1;32m    <a href='file:///root/.cache/pypoetry/virtualenvs/google-kaggle-TDiTHuYo-py3.10/lib/python3.10/site-packages/PIL/Image.py?line=857'>858</a>\u001b[0m ):\n\u001b[1;32m    <a href='file:///root/.cache/pypoetry/virtualenvs/google-kaggle-TDiTHuYo-py3.10/lib/python3.10/site-packages/PIL/Image.py?line=858'>859</a>\u001b[0m     \u001b[39m\"\"\"\u001b[39;00m\n\u001b[1;32m    <a href='file:///root/.cache/pypoetry/virtualenvs/google-kaggle-TDiTHuYo-py3.10/lib/python3.10/site-packages/PIL/Image.py?line=859'>860</a>\u001b[0m \u001b[39m    Returns a converted copy of this image. For the \"P\" mode, this\u001b[39;00m\n\u001b[1;32m    <a href='file:///root/.cache/pypoetry/virtualenvs/google-kaggle-TDiTHuYo-py3.10/lib/python3.10/site-packages/PIL/Image.py?line=860'>861</a>\u001b[0m \u001b[39m    method translates pixels through the palette.  If mode is\u001b[39;00m\n\u001b[0;32m   (...)\u001b[0m\n\u001b[1;32m    <a href='file:///root/.cache/pypoetry/virtualenvs/google-kaggle-TDiTHuYo-py3.10/lib/python3.10/site-packages/PIL/Image.py?line=897'>898</a>\u001b[0m \u001b[39m    :returns: An :py:class:`~PIL.Image.Image` object.\u001b[39;00m\n\u001b[1;32m    <a href='file:///root/.cache/pypoetry/virtualenvs/google-kaggle-TDiTHuYo-py3.10/lib/python3.10/site-packages/PIL/Image.py?line=898'>899</a>\u001b[0m \u001b[39m    \"\"\"\u001b[39;00m\n\u001b[0;32m--> <a href='file:///root/.cache/pypoetry/virtualenvs/google-kaggle-TDiTHuYo-py3.10/lib/python3.10/site-packages/PIL/Image.py?line=900'>901</a>\u001b[0m     \u001b[39mself\u001b[39;49m\u001b[39m.\u001b[39;49mload()\n\u001b[1;32m    <a href='file:///root/.cache/pypoetry/virtualenvs/google-kaggle-TDiTHuYo-py3.10/lib/python3.10/site-packages/PIL/Image.py?line=902'>903</a>\u001b[0m     has_transparency \u001b[39m=\u001b[39m \u001b[39mself\u001b[39m\u001b[39m.\u001b[39minfo\u001b[39m.\u001b[39mget(\u001b[39m\"\u001b[39m\u001b[39mtransparency\u001b[39m\u001b[39m\"\u001b[39m) \u001b[39mis\u001b[39;00m \u001b[39mnot\u001b[39;00m \u001b[39mNone\u001b[39;00m\n\u001b[1;32m    <a href='file:///root/.cache/pypoetry/virtualenvs/google-kaggle-TDiTHuYo-py3.10/lib/python3.10/site-packages/PIL/Image.py?line=903'>904</a>\u001b[0m     \u001b[39mif\u001b[39;00m \u001b[39mnot\u001b[39;00m mode \u001b[39mand\u001b[39;00m \u001b[39mself\u001b[39m\u001b[39m.\u001b[39mmode \u001b[39m==\u001b[39m \u001b[39m\"\u001b[39m\u001b[39mP\u001b[39m\u001b[39m\"\u001b[39m:\n\u001b[1;32m    <a href='file:///root/.cache/pypoetry/virtualenvs/google-kaggle-TDiTHuYo-py3.10/lib/python3.10/site-packages/PIL/Image.py?line=904'>905</a>\u001b[0m         \u001b[39m# determine default mode\u001b[39;00m\n",
      "File \u001b[0;32m~/.cache/pypoetry/virtualenvs/google-kaggle-TDiTHuYo-py3.10/lib/python3.10/site-packages/PIL/ImageFile.py:239\u001b[0m, in \u001b[0;36mImageFile.load\u001b[0;34m(self)\u001b[0m\n\u001b[1;32m    <a href='file:///root/.cache/pypoetry/virtualenvs/google-kaggle-TDiTHuYo-py3.10/lib/python3.10/site-packages/PIL/ImageFile.py?line=236'>237</a>\u001b[0m \u001b[39mwhile\u001b[39;00m \u001b[39mTrue\u001b[39;00m:\n\u001b[1;32m    <a href='file:///root/.cache/pypoetry/virtualenvs/google-kaggle-TDiTHuYo-py3.10/lib/python3.10/site-packages/PIL/ImageFile.py?line=237'>238</a>\u001b[0m     \u001b[39mtry\u001b[39;00m:\n\u001b[0;32m--> <a href='file:///root/.cache/pypoetry/virtualenvs/google-kaggle-TDiTHuYo-py3.10/lib/python3.10/site-packages/PIL/ImageFile.py?line=238'>239</a>\u001b[0m         s \u001b[39m=\u001b[39m read(\u001b[39mself\u001b[39;49m\u001b[39m.\u001b[39;49mdecodermaxblock)\n\u001b[1;32m    <a href='file:///root/.cache/pypoetry/virtualenvs/google-kaggle-TDiTHuYo-py3.10/lib/python3.10/site-packages/PIL/ImageFile.py?line=239'>240</a>\u001b[0m     \u001b[39mexcept\u001b[39;00m (\u001b[39mIndexError\u001b[39;00m, struct\u001b[39m.\u001b[39merror) \u001b[39mas\u001b[39;00m e:\n\u001b[1;32m    <a href='file:///root/.cache/pypoetry/virtualenvs/google-kaggle-TDiTHuYo-py3.10/lib/python3.10/site-packages/PIL/ImageFile.py?line=240'>241</a>\u001b[0m         \u001b[39m# truncated png/gif\u001b[39;00m\n\u001b[1;32m    <a href='file:///root/.cache/pypoetry/virtualenvs/google-kaggle-TDiTHuYo-py3.10/lib/python3.10/site-packages/PIL/ImageFile.py?line=241'>242</a>\u001b[0m         \u001b[39mif\u001b[39;00m LOAD_TRUNCATED_IMAGES:\n",
      "File \u001b[0;32m~/.cache/pypoetry/virtualenvs/google-kaggle-TDiTHuYo-py3.10/lib/python3.10/site-packages/PIL/JpegImagePlugin.py:403\u001b[0m, in \u001b[0;36mJpegImageFile.load_read\u001b[0;34m(self, read_bytes)\u001b[0m\n\u001b[1;32m    <a href='file:///root/.cache/pypoetry/virtualenvs/google-kaggle-TDiTHuYo-py3.10/lib/python3.10/site-packages/PIL/JpegImagePlugin.py?line=396'>397</a>\u001b[0m \u001b[39mdef\u001b[39;00m \u001b[39mload_read\u001b[39m(\u001b[39mself\u001b[39m, read_bytes):\n\u001b[1;32m    <a href='file:///root/.cache/pypoetry/virtualenvs/google-kaggle-TDiTHuYo-py3.10/lib/python3.10/site-packages/PIL/JpegImagePlugin.py?line=397'>398</a>\u001b[0m     \u001b[39m\"\"\"\u001b[39;00m\n\u001b[1;32m    <a href='file:///root/.cache/pypoetry/virtualenvs/google-kaggle-TDiTHuYo-py3.10/lib/python3.10/site-packages/PIL/JpegImagePlugin.py?line=398'>399</a>\u001b[0m \u001b[39m    internal: read more image data\u001b[39;00m\n\u001b[1;32m    <a href='file:///root/.cache/pypoetry/virtualenvs/google-kaggle-TDiTHuYo-py3.10/lib/python3.10/site-packages/PIL/JpegImagePlugin.py?line=399'>400</a>\u001b[0m \u001b[39m    For premature EOF and LOAD_TRUNCATED_IMAGES adds EOI marker\u001b[39;00m\n\u001b[1;32m    <a href='file:///root/.cache/pypoetry/virtualenvs/google-kaggle-TDiTHuYo-py3.10/lib/python3.10/site-packages/PIL/JpegImagePlugin.py?line=400'>401</a>\u001b[0m \u001b[39m    so libjpeg can finish decoding\u001b[39;00m\n\u001b[1;32m    <a href='file:///root/.cache/pypoetry/virtualenvs/google-kaggle-TDiTHuYo-py3.10/lib/python3.10/site-packages/PIL/JpegImagePlugin.py?line=401'>402</a>\u001b[0m \u001b[39m    \"\"\"\u001b[39;00m\n\u001b[0;32m--> <a href='file:///root/.cache/pypoetry/virtualenvs/google-kaggle-TDiTHuYo-py3.10/lib/python3.10/site-packages/PIL/JpegImagePlugin.py?line=402'>403</a>\u001b[0m     s \u001b[39m=\u001b[39m \u001b[39mself\u001b[39;49m\u001b[39m.\u001b[39;49mfp\u001b[39m.\u001b[39;49mread(read_bytes)\n\u001b[1;32m    <a href='file:///root/.cache/pypoetry/virtualenvs/google-kaggle-TDiTHuYo-py3.10/lib/python3.10/site-packages/PIL/JpegImagePlugin.py?line=404'>405</a>\u001b[0m     \u001b[39mif\u001b[39;00m \u001b[39mnot\u001b[39;00m s \u001b[39mand\u001b[39;00m ImageFile\u001b[39m.\u001b[39mLOAD_TRUNCATED_IMAGES \u001b[39mand\u001b[39;00m \u001b[39mnot\u001b[39;00m \u001b[39mhasattr\u001b[39m(\u001b[39mself\u001b[39m, \u001b[39m\"\u001b[39m\u001b[39m_ended\u001b[39m\u001b[39m\"\u001b[39m):\n\u001b[1;32m    <a href='file:///root/.cache/pypoetry/virtualenvs/google-kaggle-TDiTHuYo-py3.10/lib/python3.10/site-packages/PIL/JpegImagePlugin.py?line=405'>406</a>\u001b[0m         \u001b[39m# Premature EOF.\u001b[39;00m\n\u001b[1;32m    <a href='file:///root/.cache/pypoetry/virtualenvs/google-kaggle-TDiTHuYo-py3.10/lib/python3.10/site-packages/PIL/JpegImagePlugin.py?line=406'>407</a>\u001b[0m         \u001b[39m# Pretend file is finished adding EOI marker\u001b[39;00m\n\u001b[1;32m    <a href='file:///root/.cache/pypoetry/virtualenvs/google-kaggle-TDiTHuYo-py3.10/lib/python3.10/site-packages/PIL/JpegImagePlugin.py?line=407'>408</a>\u001b[0m         \u001b[39mself\u001b[39m\u001b[39m.\u001b[39m_ended \u001b[39m=\u001b[39m \u001b[39mTrue\u001b[39;00m\n",
      "\u001b[0;31mKeyboardInterrupt\u001b[0m: "
     ]
    }
   ],
   "source": [
    "fit(triplet_train_loader,  model, loss_fn, optimizer, scheduler, n_epochs, cuda, log_interval)"
   ]
  },
  {
   "cell_type": "code",
   "execution_count": null,
   "metadata": {},
   "outputs": [],
   "source": []
  }
 ],
 "metadata": {
  "interpreter": {
   "hash": "b16d598b507b51a8e838bd3fb72f2ad056db85a2baafe19ab41eeb0f2c88d46c"
  },
  "kernelspec": {
   "display_name": "Python 3.10.4 ('google-kaggle-TDiTHuYo-py3.10')",
   "language": "python",
   "name": "python3"
  },
  "language_info": {
   "codemirror_mode": {
    "name": "ipython",
    "version": 3
   },
   "file_extension": ".py",
   "mimetype": "text/x-python",
   "name": "python",
   "nbconvert_exporter": "python",
   "pygments_lexer": "ipython3",
   "version": "3.10.4"
  },
  "orig_nbformat": 4
 },
 "nbformat": 4,
 "nbformat_minor": 2
}
