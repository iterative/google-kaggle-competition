{
 "cells": [
  {
   "cell_type": "code",
   "execution_count": 4,
   "metadata": {},
   "outputs": [],
   "source": [
    "import cv2\n",
    "import fiftyone as fo\n",
    "import fiftyone.brain as fob\n",
    "import numpy as np"
   ]
  },
  {
   "cell_type": "code",
   "execution_count": 5,
   "metadata": {},
   "outputs": [],
   "source": [
    "dataset_name = 'kaggle_130k'\n",
    "dataset_dir = '../datasets/kaggle_130k/'"
   ]
  },
  {
   "cell_type": "markdown",
   "metadata": {},
   "source": [
    "### Load dataset"
   ]
  },
  {
   "cell_type": "code",
   "execution_count": 6,
   "metadata": {},
   "outputs": [],
   "source": [
    "#dataset = fo.load_dataset(dataset_name)\n",
    "#dataset.delete()"
   ]
  },
  {
   "cell_type": "code",
   "execution_count": 13,
   "metadata": {},
   "outputs": [],
   "source": [
    "if not fo.dataset_exists(dataset_name):\n",
    "    dataset = fo.Dataset.from_dir(\n",
    "        dataset_dir=dataset_dir,\n",
    "        dataset_type=fo.types.FiftyOneImageClassificationDataset,\n",
    "        name=dataset_name\n",
    "    )\n",
    "else:\n",
    "    dataset = fo.load_dataset(dataset_name)"
   ]
  },
  {
   "cell_type": "code",
   "execution_count": 14,
   "metadata": {},
   "outputs": [
    {
     "data": {
      "text/plain": [
       "<Sample: {\n",
       "    'id': '63172fa73996fc1c753f9b80',\n",
       "    'media_type': 'image',\n",
       "    'filepath': '/workspaces/google-kaggle-competition/datasets/kaggle_130k/data/image0000.jpg',\n",
       "    'tags': BaseList([]),\n",
       "    'metadata': None,\n",
       "    'ground_truth': <Classification: {\n",
       "        'id': '63172fa73996fc1c753f9b7f',\n",
       "        'tags': BaseList([]),\n",
       "        'label': 'apparel',\n",
       "        'confidence': None,\n",
       "        'logits': None,\n",
       "    }>,\n",
       "}>"
      ]
     },
     "execution_count": 14,
     "metadata": {},
     "output_type": "execute_result"
    }
   ],
   "source": [
    "dataset.first()"
   ]
  },
  {
   "cell_type": "markdown",
   "metadata": {},
   "source": [
    "### Split dataset\n",
    "Note: We do not want to do split here. We need to move it to data pipeline to make sure that ML and Search-index pipeline work with different set of images."
   ]
  },
  {
   "cell_type": "code",
   "execution_count": 9,
   "metadata": {},
   "outputs": [],
   "source": [
    "import fiftyone.utils.random as four\n",
    "\n",
    "view_train,view_val,view_test = four.random_split(dataset, [0.7,0.2,0.1])"
   ]
  },
  {
   "cell_type": "markdown",
   "metadata": {},
   "source": [
    "### Export dataset\n",
    "Note: Beware that there are absolute paths in manifest.json. It needs to be regenerated on different computer."
   ]
  },
  {
   "cell_type": "code",
   "execution_count": 10,
   "metadata": {},
   "outputs": [
    {
     "name": "stdout",
     "output_type": "stream",
     "text": [
      "Directory '../data/voxel51/train' already exists; export will be merged with existing files\n",
      " 100% |█████████████| 92770/92770 [31.7s elapsed, 0s remaining, 3.1K samples/s]      \n",
      "Directory '../data/voxel51/val' already exists; export will be merged with existing files\n",
      " 100% |█████████████| 26505/26505 [9.3s elapsed, 0s remaining, 3.0K samples/s]        \n",
      "Directory '../data/voxel51/test' already exists; export will be merged with existing files\n",
      " 100% |█████████████| 13253/13253 [4.6s elapsed, 0s remaining, 3.0K samples/s]        \n"
     ]
    }
   ],
   "source": [
    "view_train.export(export_dir='../data/voxel51/train', \n",
    "                dataset_type=fo.types.FiftyOneImageClassificationDataset,\n",
    "                label_field='ground_truth',\n",
    "                data_path='manifest.json',\n",
    "                labels_path='labels.json',\n",
    "                export_media='manifest')\n",
    "\n",
    "view_val.export(export_dir='../data/voxel51/val', \n",
    "                dataset_type=fo.types.FiftyOneImageClassificationDataset,\n",
    "                label_field='ground_truth',\n",
    "                data_path='manifest.json',\n",
    "                labels_path='labels.json',\n",
    "                export_media='manifest')\n",
    "\n",
    "view_test.export(export_dir='../data/voxel51/test', \n",
    "                dataset_type=fo.types.FiftyOneImageClassificationDataset,\n",
    "                label_field='ground_truth',\n",
    "                data_path='manifest.json',\n",
    "                labels_path='labels.json',\n",
    "                export_media='manifest')     "
   ]
  }
 ],
 "metadata": {
  "kernelspec": {
   "display_name": "Python 3.9.13 ('google-kaggle-TDiTHuYo-py3.9')",
   "language": "python",
   "name": "python3"
  },
  "language_info": {
   "codemirror_mode": {
    "name": "ipython",
    "version": 3
   },
   "file_extension": ".py",
   "mimetype": "text/x-python",
   "name": "python",
   "nbconvert_exporter": "python",
   "pygments_lexer": "ipython3",
   "version": "3.9.13"
  },
  "orig_nbformat": 4,
  "vscode": {
   "interpreter": {
    "hash": "9e704d1b9a7e018aa4e7ab1d2650c1618698ef2d7b90d5327c0dfafc5a7a2f30"
   }
  }
 },
 "nbformat": 4,
 "nbformat_minor": 2
}
